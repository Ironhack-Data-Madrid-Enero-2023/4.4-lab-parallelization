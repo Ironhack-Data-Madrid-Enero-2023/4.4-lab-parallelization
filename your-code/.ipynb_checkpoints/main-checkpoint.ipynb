{
 "cells": [
  {
   "cell_type": "markdown",
   "metadata": {
    "toc": true
   },
   "source": [
    "<h1>Table of Contents<span class=\"tocSkip\"></span></h1>\n",
    "<div class=\"toc\"><ul class=\"toc-item\"><li><span><a href=\"#Parallelization-Lab\" data-toc-modified-id=\"Parallelization-Lab-1\"><span class=\"toc-item-num\">1&nbsp;&nbsp;</span>Parallelization Lab</a></span><ul class=\"toc-item\"><li><span><a href=\"#Step-1:-Use-the-requests-library-to-retrieve-the-content-from-the-URL-below.\" data-toc-modified-id=\"Step-1:-Use-the-requests-library-to-retrieve-the-content-from-the-URL-below.-1.1\"><span class=\"toc-item-num\">1.1&nbsp;&nbsp;</span>Step 1: Use the requests library to retrieve the content from the URL below.</a></span></li><li><span><a href=\"#Step-2:-Use-BeautifulSoup-to-extract-a-list-of-all-the-unique-links-on-the-page.\" data-toc-modified-id=\"Step-2:-Use-BeautifulSoup-to-extract-a-list-of-all-the-unique-links-on-the-page.-1.2\"><span class=\"toc-item-num\">1.2&nbsp;&nbsp;</span>Step 2: Use BeautifulSoup to extract a list of all the unique links on the page.</a></span></li><li><span><a href=\"#Step-3:-Use-list-comprehensions-with-conditions-to-clean-the-link-list.\" data-toc-modified-id=\"Step-3:-Use-list-comprehensions-with-conditions-to-clean-the-link-list.-1.3\"><span class=\"toc-item-num\">1.3&nbsp;&nbsp;</span>Step 3: Use list comprehensions with conditions to clean the link list.</a></span></li><li><span><a href=\"#Step-4:-Use-the-os-library-to-create-a-folder-called-wikipedia-and-make-that-the-current-working-directory.\" data-toc-modified-id=\"Step-4:-Use-the-os-library-to-create-a-folder-called-wikipedia-and-make-that-the-current-working-directory.-1.4\"><span class=\"toc-item-num\">1.4&nbsp;&nbsp;</span>Step 4: Use the os library to create a folder called <em>wikipedia</em> and make that the current working directory.</a></span></li><li><span><a href=\"#Step-5:-Write-a-function-called-index_page-that-accepts-a-link-and-does-the-following.\" data-toc-modified-id=\"Step-5:-Write-a-function-called-index_page-that-accepts-a-link-and-does-the-following.-1.5\"><span class=\"toc-item-num\">1.5&nbsp;&nbsp;</span>Step 5: Write a function called index_page that accepts a link and does the following.</a></span></li><li><span><a href=\"#Step-6:-Sequentially-loop-through-the-list-of-links,-running-the-index_page-function-each-time.\" data-toc-modified-id=\"Step-6:-Sequentially-loop-through-the-list-of-links,-running-the-index_page-function-each-time.-1.6\"><span class=\"toc-item-num\">1.6&nbsp;&nbsp;</span>Step 6: Sequentially loop through the list of links, running the index_page function each time.</a></span></li><li><span><a href=\"#Step-7:-Perform-the-page-indexing-in-parallel-and-note-the-difference-in-performance.\" data-toc-modified-id=\"Step-7:-Perform-the-page-indexing-in-parallel-and-note-the-difference-in-performance.-1.7\"><span class=\"toc-item-num\">1.7&nbsp;&nbsp;</span>Step 7: Perform the page indexing in parallel and note the difference in performance.</a></span></li></ul></li></ul></div>"
   ]
  },
  {
   "cell_type": "markdown",
   "metadata": {},
   "source": [
    "# Parallelization Lab\n",
    "\n",
    "In this lab, you will be leveraging several concepts you have learned to obtain a list of links from a web page and crawl and index the pages referenced by those links - both sequentially and in parallel. Follow the steps below to complete the lab."
   ]
  },
  {
   "cell_type": "markdown",
   "metadata": {},
   "source": [
    "## Step 1: Use the requests library to retrieve the content from the URL below.\n",
    "\n",
    "https://en.wikipedia.org/wiki/Data_science"
   ]
  },
  {
   "cell_type": "code",
   "execution_count": 1,
   "metadata": {},
   "outputs": [],
   "source": [
    "import requests\n",
    "\n",
    "url = 'https://en.wikipedia.org/wiki/Data_science'"
   ]
  },
  {
   "cell_type": "code",
   "execution_count": 2,
   "metadata": {},
   "outputs": [],
   "source": [
    "var = requests.get(url).content"
   ]
  },
  {
   "cell_type": "markdown",
   "metadata": {},
   "source": [
    "## Step 2: Use BeautifulSoup to extract a list of all the unique links on the page."
   ]
  },
  {
   "cell_type": "code",
   "execution_count": 3,
   "metadata": {},
   "outputs": [],
   "source": [
    "from bs4 import BeautifulSoup\n",
    "import re"
   ]
  },
  {
   "cell_type": "code",
   "execution_count": 4,
   "metadata": {
    "scrolled": true
   },
   "outputs": [],
   "source": [
    "linksoup = BeautifulSoup(var, 'html.parser')"
   ]
  },
  {
   "cell_type": "code",
   "execution_count": 5,
   "metadata": {},
   "outputs": [],
   "source": [
    "links = [link.get(\"href\") for link in linksoup.find_all(\"a\")]"
   ]
  },
  {
   "cell_type": "code",
   "execution_count": 6,
   "metadata": {},
   "outputs": [
    {
     "data": {
      "text/plain": [
       "'https://www.mediawiki.org/'"
      ]
     },
     "execution_count": 6,
     "metadata": {},
     "output_type": "execute_result"
    }
   ],
   "source": [
    "links = [e for e in links if e]\n",
    "\n",
    "links[-1]"
   ]
  },
  {
   "cell_type": "markdown",
   "metadata": {},
   "source": [
    "## Step 3: Use list comprehensions with conditions to clean the link list.\n",
    "\n",
    "There are two types of links, absolute and relative. Absolute links have the full URL and begin with http while relative links begin with a forward slash (/) and point to an internal page within the wikipedia.org domain. Clean the respective types of URLs as follows.\n",
    "\n",
    "- Absolute Links: Create a list of these and remove any that contain a percentage sign (%).\n",
    "- Relativel Links: Create a list of these, add the domain to the link so that you have the full URL, and remove any that contain a percentage sign (%).\n",
    "- Combine the list of absolute and relative links and ensure there are no duplicates."
   ]
  },
  {
   "cell_type": "code",
   "execution_count": 7,
   "metadata": {},
   "outputs": [],
   "source": [
    "domain = 'wikipedia.org'"
   ]
  },
  {
   "cell_type": "code",
   "execution_count": 8,
   "metadata": {},
   "outputs": [
    {
     "data": {
      "text/plain": [
       "str"
      ]
     },
     "execution_count": 8,
     "metadata": {},
     "output_type": "execute_result"
    }
   ],
   "source": [
    "type(links[2])"
   ]
  },
  {
   "cell_type": "code",
   "execution_count": 9,
   "metadata": {},
   "outputs": [
    {
     "data": {
      "text/plain": [
       "437"
      ]
     },
     "execution_count": 9,
     "metadata": {},
     "output_type": "execute_result"
    }
   ],
   "source": [
    "len(links)"
   ]
  },
  {
   "cell_type": "code",
   "execution_count": 10,
   "metadata": {},
   "outputs": [],
   "source": [
    "absolute = [e for e in links if domain in e and '%' not in e]"
   ]
  },
  {
   "cell_type": "code",
   "execution_count": 11,
   "metadata": {},
   "outputs": [],
   "source": [
    "absolute = absolute[1:-5]"
   ]
  },
  {
   "cell_type": "code",
   "execution_count": 12,
   "metadata": {},
   "outputs": [],
   "source": [
    "relativos = [e for e in links if e.startswith('/') and '%' not in e]"
   ]
  },
  {
   "cell_type": "code",
   "execution_count": 13,
   "metadata": {},
   "outputs": [
    {
     "data": {
      "text/plain": [
       "['wikipedia.org/wiki/Main_Page',\n",
       " 'wikipedia.org/wiki/Special:Search',\n",
       " 'wikipedia.org/w/index.php?title=Special:CreateAccount&returnto=Data+science',\n",
       " 'wikipedia.org/w/index.php?title=Special:CreateAccount&returnto=Data+science',\n",
       " 'wikipedia.org/w/index.php?title=Special:UserLogin&returnto=Data+science',\n",
       " 'wikipedia.org/wiki/Help:Introduction',\n",
       " 'wikipedia.org/wiki/Special:MyTalk',\n",
       " 'wikipedia.org/wiki/Special:MyContributions',\n",
       " 'wikipedia.org/wiki/Main_Page',\n",
       " 'wikipedia.org/wiki/Wikipedia:Contents',\n",
       " 'wikipedia.org/wiki/Portal:Current_events',\n",
       " 'wikipedia.org/wiki/Special:Random',\n",
       " 'wikipedia.org/wiki/Wikipedia:About',\n",
       " 'wikipedia.org/wiki/Help:Contents',\n",
       " 'wikipedia.org/wiki/Help:Introduction',\n",
       " 'wikipedia.org/wiki/Wikipedia:Community_portal',\n",
       " 'wikipedia.org/wiki/Special:RecentChanges',\n",
       " 'wikipedia.org/wiki/Wikipedia:File_upload_wizard',\n",
       " 'wikipedia.org/wiki/Special:WhatLinksHere/Data_science',\n",
       " 'wikipedia.org/wiki/Special:RecentChangesLinked/Data_science',\n",
       " 'wikipedia.org/wiki/Wikipedia:File_Upload_Wizard',\n",
       " 'wikipedia.org/wiki/Special:SpecialPages',\n",
       " 'wikipedia.org/w/index.php?title=Data_science&oldid=1138351123',\n",
       " 'wikipedia.org/w/index.php?title=Data_science&action=info',\n",
       " 'wikipedia.org/w/index.php?title=Special:CiteThisPage&page=Data_science&id=1138351123&wpFormIdentifier=titleform',\n",
       " 'wikipedia.org/w/index.php?title=Special:DownloadAsPdf&page=Data_science&action=show-download-screen',\n",
       " 'wikipedia.org/w/index.php?title=Data_science&printable=yes',\n",
       " 'wikipedia.org/wiki/Data_science',\n",
       " 'wikipedia.org/wiki/Talk:Data_science',\n",
       " 'wikipedia.org/wiki/Data_science',\n",
       " 'wikipedia.org/w/index.php?title=Data_science&action=edit',\n",
       " 'wikipedia.org/w/index.php?title=Data_science&action=history',\n",
       " 'wikipedia.org/wiki/Data_science',\n",
       " 'wikipedia.org/w/index.php?title=Data_science&action=edit',\n",
       " 'wikipedia.org/w/index.php?title=Data_science&action=history',\n",
       " 'wikipedia.org/wiki/Information_science',\n",
       " 'wikipedia.org/wiki/File:PIA23792-1600x1200(1).jpg',\n",
       " 'wikipedia.org/wiki/File:PIA23792-1600x1200(1).jpg',\n",
       " 'wikipedia.org/wiki/Comet_NEOWISE',\n",
       " 'wikipedia.org/wiki/Astronomical_survey',\n",
       " 'wikipedia.org/wiki/Space_telescope',\n",
       " 'wikipedia.org/wiki/Wide-field_Infrared_Survey_Explorer',\n",
       " 'wikipedia.org/wiki/Interdisciplinary',\n",
       " 'wikipedia.org/wiki/Statistics',\n",
       " 'wikipedia.org/wiki/Scientific_computing',\n",
       " 'wikipedia.org/wiki/Scientific_method',\n",
       " 'wikipedia.org/wiki/Algorithm',\n",
       " 'wikipedia.org/wiki/Knowledge',\n",
       " 'wikipedia.org/wiki/Unstructured_data',\n",
       " 'wikipedia.org/wiki/Statistics',\n",
       " 'wikipedia.org/wiki/Data_analysis',\n",
       " 'wikipedia.org/wiki/Informatics',\n",
       " 'wikipedia.org/wiki/Scientific_method',\n",
       " 'wikipedia.org/wiki/Phenomena',\n",
       " 'wikipedia.org/wiki/Data',\n",
       " 'wikipedia.org/wiki/Mathematics',\n",
       " 'wikipedia.org/wiki/Computer_science',\n",
       " 'wikipedia.org/wiki/Information_science',\n",
       " 'wikipedia.org/wiki/Domain_knowledge',\n",
       " 'wikipedia.org/wiki/Computer_science',\n",
       " 'wikipedia.org/wiki/Turing_Award',\n",
       " 'wikipedia.org/wiki/Jim_Gray_(computer_scientist)',\n",
       " 'wikipedia.org/wiki/Empirical_research',\n",
       " 'wikipedia.org/wiki/Basic_research',\n",
       " 'wikipedia.org/wiki/Computational_science',\n",
       " 'wikipedia.org/wiki/Information_technology',\n",
       " 'wikipedia.org/wiki/Information_explosion',\n",
       " 'wikipedia.org/w/index.php?title=Data_science&action=edit&section=1',\n",
       " 'wikipedia.org/wiki/Interdisciplinarity',\n",
       " 'wikipedia.org/wiki/Academic_discipline',\n",
       " 'wikipedia.org/wiki/Big_data',\n",
       " 'wikipedia.org/wiki/Data_set',\n",
       " 'wikipedia.org/wiki/Problem_solving',\n",
       " 'wikipedia.org/wiki/Analysis',\n",
       " 'wikipedia.org/wiki/Data_visualization',\n",
       " 'wikipedia.org/wiki/Information_visualization',\n",
       " 'wikipedia.org/wiki/Data_sonification',\n",
       " 'wikipedia.org/wiki/Data_integration',\n",
       " 'wikipedia.org/wiki/Graphic_design',\n",
       " 'wikipedia.org/wiki/Complex_systems',\n",
       " 'wikipedia.org/wiki/Communication',\n",
       " 'wikipedia.org/wiki/Business',\n",
       " 'wikipedia.org/wiki/Nathan_Yau',\n",
       " 'wikipedia.org/wiki/Ben_Fry',\n",
       " 'wikipedia.org/wiki/Exploration',\n",
       " 'wikipedia.org/wiki/American_Statistical_Association',\n",
       " 'wikipedia.org/wiki/Database',\n",
       " 'wikipedia.org/wiki/Machine_learning',\n",
       " 'wikipedia.org/wiki/Distributed_computing',\n",
       " 'wikipedia.org/w/index.php?title=Data_science&action=edit&section=2',\n",
       " 'wikipedia.org/wiki/Nate_Silver',\n",
       " 'wikipedia.org/wiki/Vasant_Dhar',\n",
       " 'wikipedia.org/wiki/Andrew_Gelman',\n",
       " 'wikipedia.org/wiki/Columbia_University',\n",
       " 'wikipedia.org/wiki/David_Donoho',\n",
       " 'wikipedia.org/w/index.php?title=Data_science&action=edit&section=3',\n",
       " 'wikipedia.org/w/index.php?title=Data_science&action=edit&section=4',\n",
       " 'wikipedia.org/wiki/John_Tukey',\n",
       " 'wikipedia.org/wiki/C._F._Jeff_Wu',\n",
       " 'wikipedia.org/wiki/Montpellier_2_University',\n",
       " 'wikipedia.org/wiki/Peter_Naur',\n",
       " 'wikipedia.org/wiki/C._F._Jeff_Wu',\n",
       " 'wikipedia.org/wiki/Data_mining',\n",
       " 'wikipedia.org/w/index.php?title=Data_science&action=edit&section=5',\n",
       " 'wikipedia.org/wiki/Thomas_H._Davenport',\n",
       " 'wikipedia.org/wiki/DJ_Patil',\n",
       " 'wikipedia.org/wiki/New_York_Times',\n",
       " 'wikipedia.org/wiki/Boston_Globe',\n",
       " 'wikipedia.org/wiki/William_S._Cleveland',\n",
       " 'wikipedia.org/wiki/Committee_on_Data_for_Science_and_Technology',\n",
       " 'wikipedia.org/wiki/American_Statistical_Association',\n",
       " 'wikipedia.org/wiki/DJ_Patil',\n",
       " 'wikipedia.org/wiki/Jeff_Hammerbacher',\n",
       " 'wikipedia.org/wiki/National_Science_Board',\n",
       " 'wikipedia.org/wiki/Buzzword',\n",
       " 'wikipedia.org/wiki/Big_data',\n",
       " 'wikipedia.org/w/index.php?title=Data_science&action=edit&section=6',\n",
       " 'wikipedia.org/wiki/ODSC',\n",
       " 'wikipedia.org/wiki/Scientific_Data_(journal)',\n",
       " 'wikipedia.org/wiki/Women_in_Data',\n",
       " 'wikipedia.org/w/index.php?title=Data_science&action=edit&section=7',\n",
       " 'wikipedia.org/wiki/Journal_of_Computational_and_Graphical_Statistics',\n",
       " 'wikipedia.org/wiki/Doi_(identifier)',\n",
       " 'wikipedia.org/wiki/S2CID_(identifier)',\n",
       " 'wikipedia.org/wiki/Doi_(identifier)',\n",
       " 'wikipedia.org/wiki/S2CID_(identifier)',\n",
       " 'wikipedia.org/wiki/Doi_(identifier)',\n",
       " 'wikipedia.org/wiki/ISBN_(identifier)',\n",
       " 'wikipedia.org/wiki/Special:BookSources/9784431702085',\n",
       " 'wikipedia.org/wiki/Doi_(identifier)',\n",
       " 'wikipedia.org/wiki/ISSN_(identifier)',\n",
       " 'wikipedia.org/wiki/S2CID_(identifier)',\n",
       " 'wikipedia.org/wiki/ISBN_(identifier)',\n",
       " 'wikipedia.org/wiki/Special:BookSources/978-0-9825442-0-4',\n",
       " 'wikipedia.org/wiki/Doi_(identifier)',\n",
       " 'wikipedia.org/wiki/ISSN_(identifier)',\n",
       " 'wikipedia.org/wiki/PMID_(identifier)',\n",
       " 'wikipedia.org/wiki/S2CID_(identifier)',\n",
       " 'wikipedia.org/wiki/Harvard_Business_Review',\n",
       " 'wikipedia.org/wiki/PMID_(identifier)',\n",
       " 'wikipedia.org/wiki/Doi_(identifier)',\n",
       " 'wikipedia.org/wiki/American_Statistical_Association',\n",
       " 'wikipedia.org/wiki/Doi_(identifier)',\n",
       " 'wikipedia.org/wiki/S2CID_(identifier)',\n",
       " 'wikipedia.org/w/index.php?title=Application_of_Statistics_and_Management&action=edit&redlink=1',\n",
       " 'wikipedia.org/wiki/ISBN_(identifier)',\n",
       " 'wikipedia.org/wiki/Special:BookSources/0-12-241770-4',\n",
       " 'wikipedia.org/wiki/OCLC_(identifier)',\n",
       " 'wikipedia.org/wiki/Doi_(identifier)',\n",
       " 'wikipedia.org/wiki/Harvard_Business_Review',\n",
       " 'wikipedia.org/wiki/New_York_Times',\n",
       " 'wikipedia.org/wiki/New_York_City',\n",
       " 'wikipedia.org/wiki/Boston_Globe',\n",
       " 'wikipedia.org/wiki/Boston',\n",
       " 'wikipedia.org/wiki/Harvard_Business_Review',\n",
       " 'wikipedia.org/wiki/American_Statistical_Association',\n",
       " 'wikipedia.org/wiki/ISSN_(identifier)',\n",
       " 'wikipedia.org/wiki/Forbes',\n",
       " 'wikipedia.org/wiki/Template:Data',\n",
       " 'wikipedia.org/wiki/Template_talk:Data',\n",
       " 'wikipedia.org/wiki/Data_(computing)',\n",
       " 'wikipedia.org/wiki/Data_augmentation',\n",
       " 'wikipedia.org/wiki/Data_analysis',\n",
       " 'wikipedia.org/wiki/Data_archaeology',\n",
       " 'wikipedia.org/wiki/Big_data',\n",
       " 'wikipedia.org/wiki/Data_cleansing',\n",
       " 'wikipedia.org/wiki/Data_collection',\n",
       " 'wikipedia.org/wiki/Data_compression',\n",
       " 'wikipedia.org/wiki/Data_corruption',\n",
       " 'wikipedia.org/wiki/Data_curation',\n",
       " 'wikipedia.org/wiki/Data_degradation',\n",
       " 'wikipedia.org/wiki/Data_editing',\n",
       " 'wikipedia.org/wiki/Extract,_transform,_load',\n",
       " 'wikipedia.org/wiki/Extract,_load,_transform',\n",
       " 'wikipedia.org/wiki/Data_extraction',\n",
       " 'wikipedia.org/wiki/Data_transformation',\n",
       " 'wikipedia.org/wiki/Data_loading',\n",
       " 'wikipedia.org/wiki/Data_farming',\n",
       " 'wikipedia.org/wiki/Data_format_management',\n",
       " 'wikipedia.org/wiki/Data_fusion',\n",
       " 'wikipedia.org/wiki/Data_integration',\n",
       " 'wikipedia.org/wiki/Data_integrity',\n",
       " 'wikipedia.org/wiki/Data_library',\n",
       " 'wikipedia.org/wiki/Data_lineage',\n",
       " 'wikipedia.org/wiki/Data_loss',\n",
       " 'wikipedia.org/wiki/Data_management',\n",
       " 'wikipedia.org/wiki/Data_migration',\n",
       " 'wikipedia.org/wiki/Data_mining',\n",
       " 'wikipedia.org/wiki/Data_philanthropy',\n",
       " 'wikipedia.org/wiki/Data_pre-processing',\n",
       " 'wikipedia.org/wiki/Data_preservation',\n",
       " 'wikipedia.org/wiki/Information_privacy',\n",
       " 'wikipedia.org/wiki/Data_publishing',\n",
       " 'wikipedia.org/wiki/Data_recovery',\n",
       " 'wikipedia.org/wiki/Data_reduction',\n",
       " 'wikipedia.org/wiki/Data_retention',\n",
       " 'wikipedia.org/wiki/Data_quality',\n",
       " 'wikipedia.org/wiki/Data_scraping',\n",
       " 'wikipedia.org/wiki/Data_scrubbing',\n",
       " 'wikipedia.org/wiki/Data_security',\n",
       " 'wikipedia.org/wiki/Data_steward',\n",
       " 'wikipedia.org/wiki/Data_storage',\n",
       " 'wikipedia.org/wiki/Data_validation',\n",
       " 'wikipedia.org/wiki/Data_warehouse',\n",
       " 'wikipedia.org/wiki/Data_wrangling',\n",
       " 'wikipedia.org/wiki/Help:Category',\n",
       " 'wikipedia.org/wiki/Category:Information_science',\n",
       " 'wikipedia.org/wiki/Category:Computer_occupations',\n",
       " 'wikipedia.org/wiki/Category:Computational_fields_of_study',\n",
       " 'wikipedia.org/wiki/Category:Data_analysis',\n",
       " 'wikipedia.org/wiki/Category:Articles_with_short_description',\n",
       " 'wikipedia.org/wiki/Category:Short_description_matches_Wikidata',\n",
       " 'wikipedia.org/wiki/Category:Use_dmy_dates_from_August_2021',\n",
       " 'wikipedia.org/wiki/Wikipedia:About',\n",
       " 'wikipedia.org/wiki/Wikipedia:General_disclaimer']"
      ]
     },
     "execution_count": 13,
     "metadata": {},
     "output_type": "execute_result"
    }
   ],
   "source": [
    "relativos = [domain+e for e in relativos if '//' not in e]\n",
    "relativos"
   ]
  },
  {
   "cell_type": "code",
   "execution_count": 14,
   "metadata": {},
   "outputs": [],
   "source": [
    "todo = absolute + relativos"
   ]
  },
  {
   "cell_type": "code",
   "execution_count": 15,
   "metadata": {},
   "outputs": [
    {
     "data": {
      "text/plain": [
       "17"
      ]
     },
     "execution_count": 15,
     "metadata": {},
     "output_type": "execute_result"
    }
   ],
   "source": [
    "len(absolute)"
   ]
  },
  {
   "cell_type": "code",
   "execution_count": 16,
   "metadata": {},
   "outputs": [
    {
     "data": {
      "text/plain": [
       "215"
      ]
     },
     "execution_count": 16,
     "metadata": {},
     "output_type": "execute_result"
    }
   ],
   "source": [
    "len(relativos)"
   ]
  },
  {
   "cell_type": "code",
   "execution_count": 17,
   "metadata": {},
   "outputs": [
    {
     "data": {
      "text/plain": [
       "232"
      ]
     },
     "execution_count": 17,
     "metadata": {},
     "output_type": "execute_result"
    }
   ],
   "source": [
    "len(todo)"
   ]
  },
  {
   "cell_type": "markdown",
   "metadata": {},
   "source": [
    "## Step 4: Use the os library to create a folder called *wikipedia* and make that the current working directory."
   ]
  },
  {
   "cell_type": "code",
   "execution_count": 18,
   "metadata": {},
   "outputs": [],
   "source": [
    "import os"
   ]
  },
  {
   "cell_type": "code",
   "execution_count": 19,
   "metadata": {},
   "outputs": [],
   "source": [
    "#os.mkdir(\"wikipedia\")"
   ]
  },
  {
   "cell_type": "code",
   "execution_count": 20,
   "metadata": {},
   "outputs": [],
   "source": [
    "os.chdir('wikipedia')"
   ]
  },
  {
   "cell_type": "code",
   "execution_count": 21,
   "metadata": {},
   "outputs": [
    {
     "data": {
      "text/plain": [
       "'/Users/aminalsabagh/Desktop/bootcamp/4semana/4.4-lab-parallelization/4.4-lab-parallelization/your-code/wikipedia'"
      ]
     },
     "execution_count": 21,
     "metadata": {},
     "output_type": "execute_result"
    }
   ],
   "source": [
    "os.getcwd()"
   ]
  },
  {
   "cell_type": "markdown",
   "metadata": {},
   "source": [
    "## Step 5: Write a function called index_page that accepts a link and does the following.\n",
    "\n",
    "- Tries to request the content of the page referenced by that link.\n",
    "- Slugifies the filename using the `slugify` function from the [python-slugify](https://pypi.org/project/python-slugify/) library and adds a .html file extension.\n",
    "    - If you don't already have the python-slugify library installed, you can pip install it as follows: `$ pip install python-slugify`.\n",
    "    - To import the slugify function, you would do the following: `from slugify import slugify`.\n",
    "    - You can then slugify a link as follows `slugify(link)`.\n",
    "- Creates a file in the wikipedia folder using the slugified filename and writes the contents of the page to the file.\n",
    "- If an exception occurs during the process above, just `pass`."
   ]
  },
  {
   "cell_type": "code",
   "execution_count": 22,
   "metadata": {},
   "outputs": [],
   "source": [
    "#!pip install python-slugify"
   ]
  },
  {
   "cell_type": "code",
   "execution_count": 23,
   "metadata": {},
   "outputs": [],
   "source": [
    "from slugify import slugify\n",
    "\n",
    "unicode=str()"
   ]
  },
  {
   "cell_type": "code",
   "execution_count": 24,
   "metadata": {},
   "outputs": [],
   "source": [
    "def index_page(s):\n",
    "    try:\n",
    "        cont = requests.get(s).text\n",
    "        slug = slugify(s)\n",
    "        slug+='.html'\n",
    "        filename = slug\n",
    "        file = open(filename, 'w')\n",
    "        file.write(cont)\n",
    "        file.close()\n",
    "    except:\n",
    "        pass"
   ]
  },
  {
   "cell_type": "code",
   "execution_count": 25,
   "metadata": {},
   "outputs": [],
   "source": [
    "index_page('https://github.com/aminmadrileno/4.4-lab-parallelization')"
   ]
  },
  {
   "cell_type": "code",
   "execution_count": 26,
   "metadata": {},
   "outputs": [
    {
     "data": {
      "text/plain": [
       "'https-github-com-aminmadrileno-4-4-lab-parallelization'"
      ]
     },
     "execution_count": 26,
     "metadata": {},
     "output_type": "execute_result"
    }
   ],
   "source": [
    "slugify('https://github.com/aminmadrileno/4.4-lab-parallelization')"
   ]
  },
  {
   "cell_type": "markdown",
   "metadata": {},
   "source": [
    "## Step 6: Sequentially loop through the list of links, running the index_page function each time.\n",
    "\n",
    "Remember to include `%%time` at the beginning of the cell so that it measures the time it takes for the cell to run."
   ]
  },
  {
   "cell_type": "code",
   "execution_count": 27,
   "metadata": {},
   "outputs": [
    {
     "name": "stdout",
     "output_type": "stream",
     "text": [
      "CPU times: user 588 ms, sys: 56.4 ms, total: 644 ms\n",
      "Wall time: 4.29 s\n"
     ]
    }
   ],
   "source": [
    "%%time\n",
    "for e in todo:\n",
    "    index_page(e)"
   ]
  },
  {
   "cell_type": "markdown",
   "metadata": {},
   "source": [
    "## Step 7: Perform the page indexing in parallel and note the difference in performance.\n",
    "\n",
    "Remember to include `%%time` at the beginning of the cell so that it measures the time it takes for the cell to run."
   ]
  },
  {
   "cell_type": "code",
   "execution_count": 28,
   "metadata": {},
   "outputs": [],
   "source": [
    "import multiprocessing as mp"
   ]
  },
  {
   "cell_type": "code",
   "execution_count": 29,
   "metadata": {},
   "outputs": [
    {
     "data": {
      "text/plain": [
       "8"
      ]
     },
     "execution_count": 29,
     "metadata": {},
     "output_type": "execute_result"
    }
   ],
   "source": [
    "mp.cpu_count()  # number of cores"
   ]
  },
  {
   "cell_type": "code",
   "execution_count": 30,
   "metadata": {},
   "outputs": [],
   "source": [
    "pool = mp.Pool(6)  # 6 cores"
   ]
  },
  {
   "cell_type": "code",
   "execution_count": 31,
   "metadata": {},
   "outputs": [],
   "source": [
    "data = [i for i in range(100000)]"
   ]
  },
  {
   "cell_type": "code",
   "execution_count": 32,
   "metadata": {},
   "outputs": [],
   "source": [
    "from functions import *"
   ]
  },
  {
   "cell_type": "code",
   "execution_count": 33,
   "metadata": {},
   "outputs": [
    {
     "name": "stdout",
     "output_type": "stream",
     "text": [
      "CPU times: user 1.93 ms, sys: 1.59 ms, total: 3.52 ms\n",
      "Wall time: 4.99 ms\n"
     ]
    },
    {
     "data": {
      "text/plain": [
       "[None, None, None, None, None]"
      ]
     },
     "execution_count": 33,
     "metadata": {},
     "output_type": "execute_result"
    }
   ],
   "source": [
    "%%time\n",
    "\n",
    "res=pool.map(index_page2, todo)\n",
    "pool.close()\n",
    "\n",
    "res[:5]"
   ]
  }
 ],
 "metadata": {
  "kernelspec": {
   "display_name": "Python 3 (ipykernel)",
   "language": "python",
   "name": "python3"
  },
  "language_info": {
   "codemirror_mode": {
    "name": "ipython",
    "version": 3
   },
   "file_extension": ".py",
   "mimetype": "text/x-python",
   "name": "python",
   "nbconvert_exporter": "python",
   "pygments_lexer": "ipython3",
   "version": "3.9.13"
  },
  "toc": {
   "base_numbering": 1,
   "nav_menu": {},
   "number_sections": true,
   "sideBar": true,
   "skip_h1_title": false,
   "title_cell": "Table of Contents",
   "title_sidebar": "Contents",
   "toc_cell": true,
   "toc_position": {},
   "toc_section_display": true,
   "toc_window_display": false
  },
  "varInspector": {
   "cols": {
    "lenName": 16,
    "lenType": 16,
    "lenVar": 40
   },
   "kernels_config": {
    "python": {
     "delete_cmd_postfix": "",
     "delete_cmd_prefix": "del ",
     "library": "var_list.py",
     "varRefreshCmd": "print(var_dic_list())"
    },
    "r": {
     "delete_cmd_postfix": ") ",
     "delete_cmd_prefix": "rm(",
     "library": "var_list.r",
     "varRefreshCmd": "cat(var_dic_list()) "
    }
   },
   "types_to_exclude": [
    "module",
    "function",
    "builtin_function_or_method",
    "instance",
    "_Feature"
   ],
   "window_display": false
  }
 },
 "nbformat": 4,
 "nbformat_minor": 2
}
