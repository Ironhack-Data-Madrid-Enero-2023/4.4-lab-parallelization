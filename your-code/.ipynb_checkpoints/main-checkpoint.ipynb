{
 "cells": [
  {
   "cell_type": "markdown",
   "metadata": {
    "toc": true
   },
   "source": [
    "<h1>Table of Contents<span class=\"tocSkip\"></span></h1>\n",
    "<div class=\"toc\"><ul class=\"toc-item\"><li><span><a href=\"#Parallelization-Lab\" data-toc-modified-id=\"Parallelization-Lab-1\"><span class=\"toc-item-num\">1&nbsp;&nbsp;</span>Parallelization Lab</a></span><ul class=\"toc-item\"><li><span><a href=\"#Step-1:-Use-the-requests-library-to-retrieve-the-content-from-the-URL-below.\" data-toc-modified-id=\"Step-1:-Use-the-requests-library-to-retrieve-the-content-from-the-URL-below.-1.1\"><span class=\"toc-item-num\">1.1&nbsp;&nbsp;</span>Step 1: Use the requests library to retrieve the content from the URL below.</a></span></li><li><span><a href=\"#Step-2:-Use-BeautifulSoup-to-extract-a-list-of-all-the-unique-links-on-the-page.\" data-toc-modified-id=\"Step-2:-Use-BeautifulSoup-to-extract-a-list-of-all-the-unique-links-on-the-page.-1.2\"><span class=\"toc-item-num\">1.2&nbsp;&nbsp;</span>Step 2: Use BeautifulSoup to extract a list of all the unique links on the page.</a></span></li><li><span><a href=\"#Step-3:-Use-list-comprehensions-with-conditions-to-clean-the-link-list.\" data-toc-modified-id=\"Step-3:-Use-list-comprehensions-with-conditions-to-clean-the-link-list.-1.3\"><span class=\"toc-item-num\">1.3&nbsp;&nbsp;</span>Step 3: Use list comprehensions with conditions to clean the link list.</a></span></li><li><span><a href=\"#Step-4:-Use-the-os-library-to-create-a-folder-called-wikipedia-and-make-that-the-current-working-directory.\" data-toc-modified-id=\"Step-4:-Use-the-os-library-to-create-a-folder-called-wikipedia-and-make-that-the-current-working-directory.-1.4\"><span class=\"toc-item-num\">1.4&nbsp;&nbsp;</span>Step 4: Use the os library to create a folder called <em>wikipedia</em> and make that the current working directory.</a></span></li><li><span><a href=\"#Step-5:-Write-a-function-called-index_page-that-accepts-a-link-and-does-the-following.\" data-toc-modified-id=\"Step-5:-Write-a-function-called-index_page-that-accepts-a-link-and-does-the-following.-1.5\"><span class=\"toc-item-num\">1.5&nbsp;&nbsp;</span>Step 5: Write a function called index_page that accepts a link and does the following.</a></span></li><li><span><a href=\"#Step-6:-Sequentially-loop-through-the-list-of-links,-running-the-index_page-function-each-time.\" data-toc-modified-id=\"Step-6:-Sequentially-loop-through-the-list-of-links,-running-the-index_page-function-each-time.-1.6\"><span class=\"toc-item-num\">1.6&nbsp;&nbsp;</span>Step 6: Sequentially loop through the list of links, running the index_page function each time.</a></span></li><li><span><a href=\"#Step-7:-Perform-the-page-indexing-in-parallel-and-note-the-difference-in-performance.\" data-toc-modified-id=\"Step-7:-Perform-the-page-indexing-in-parallel-and-note-the-difference-in-performance.-1.7\"><span class=\"toc-item-num\">1.7&nbsp;&nbsp;</span>Step 7: Perform the page indexing in parallel and note the difference in performance.</a></span></li></ul></li></ul></div>"
   ]
  },
  {
   "cell_type": "markdown",
   "metadata": {},
   "source": [
    "# Parallelization Lab\n",
    "\n",
    "In this lab, you will be leveraging several concepts you have learned to obtain a list of links from a web page and crawl and index the pages referenced by those links - both sequentially and in parallel. Follow the steps below to complete the lab."
   ]
  },
  {
   "cell_type": "markdown",
   "metadata": {},
   "source": [
    "## Step 1: Use the requests library to retrieve the content from the URL below.\n",
    "\n",
    "https://en.wikipedia.org/wiki/Data_science"
   ]
  },
  {
   "cell_type": "code",
   "execution_count": 3,
   "metadata": {},
   "outputs": [
    {
     "name": "stdout",
     "output_type": "stream",
     "text": [
      "Requirement already satisfied: requests in /home/paula/anaconda3/envs/data/lib/python3.10/site-packages (2.28.1)\n",
      "Requirement already satisfied: charset-normalizer<3,>=2 in /home/paula/anaconda3/envs/data/lib/python3.10/site-packages (from requests) (2.0.4)\n",
      "Requirement already satisfied: urllib3<1.27,>=1.21.1 in /home/paula/anaconda3/envs/data/lib/python3.10/site-packages (from requests) (1.26.13)\n",
      "Requirement already satisfied: certifi>=2017.4.17 in /home/paula/anaconda3/envs/data/lib/python3.10/site-packages (from requests) (2022.12.7)\n",
      "Requirement already satisfied: idna<4,>=2.5 in /home/paula/anaconda3/envs/data/lib/python3.10/site-packages (from requests) (3.4)\n",
      "Note: you may need to restart the kernel to use updated packages.\n"
     ]
    }
   ],
   "source": [
    "%pip install requests\n",
    "\n",
    "import requests\n",
    "\n",
    "url = 'https://en.wikipedia.org/wiki/Data_science'"
   ]
  },
  {
   "cell_type": "code",
   "execution_count": 18,
   "metadata": {},
   "outputs": [
    {
     "data": {
      "text/plain": [
       "<Response [200]>"
      ]
     },
     "execution_count": 18,
     "metadata": {},
     "output_type": "execute_result"
    }
   ],
   "source": [
    "requests.get(url)"
   ]
  },
  {
   "cell_type": "code",
   "execution_count": 19,
   "metadata": {},
   "outputs": [],
   "source": [
    "response = requests.get('https://en.wikipedia.org/wiki/Data_science')"
   ]
  },
  {
   "cell_type": "markdown",
   "metadata": {},
   "source": [
    "## Step 2: Use BeautifulSoup to extract a list of all the unique links on the page."
   ]
  },
  {
   "cell_type": "code",
   "execution_count": 36,
   "metadata": {},
   "outputs": [],
   "source": [
    "from bs4 import BeautifulSoup\n",
    "import re"
   ]
  },
  {
   "cell_type": "code",
   "execution_count": 38,
   "metadata": {
    "scrolled": true
   },
   "outputs": [
    {
     "name": "stdout",
     "output_type": "stream",
     "text": [
      "['https://en.wikipedia.org/wiki/Talk:Data_science', 'https://en.wikipedia.org/wiki/Data_integration', 'https://en.wikipedia.org/wiki/Template_talk:Data', 'https://en.wikipedia.org/wiki/Phenomena', 'https://en.wikipedia.org/wiki/Data_farming', 'https://en.wikipedia.org/wiki/Data_format_management', 'https://en.wikipedia.org/wiki/Data_lineage', 'https://en.wikipedia.org/wiki/New_York_City', 'https://en.wikipedia.org/wiki/Template:Data', 'https://en.wikipedia.org/wiki/Wikipedia:About', 'https://en.wikipedia.org/wiki/Wikipedia:File_Upload_Wizard', 'https://en.wikipedia.org/wiki/Category:Articles_with_short_description', 'https://en.wikipedia.org/wiki/Category:Use_dmy_dates_from_August_2021', 'https://en.wikipedia.org/wiki/Data_preservation', 'https://en.wikipedia.org/wiki/Data_library', 'https://en.wikipedia.org/wiki/Data_philanthropy', 'https://en.wikipedia.org/wiki/Unstructured_data', 'https://en.wikipedia.org/wiki/Wikipedia:Contents', 'https://en.wikipedia.org/wiki/Help:Introduction', 'https://en.wikipedia.org/wiki/Data_loading', 'https://en.wikipedia.org/wiki/Boston', 'https://en.wikipedia.org/wiki/Special:MyContributions', 'https://en.wikipedia.org/wiki/Data_transformation', 'https://en.wikipedia.org/wiki/Data_degradation', 'https://en.wikipedia.org/wiki/Data_corruption', 'https://en.wikipedia.org/wiki/Committee_on_Data_for_Science_and_Technology', 'https://en.wikipedia.org/wiki/Data_validation', 'https://en.wikipedia.org/wiki/OCLC_(identifier)', 'https://en.wikipedia.org/wiki/Thomas_H._Davenport', 'https://en.wikipedia.org/wiki/Data_archaeology', 'https://en.wikipedia.org/wiki/Category:Computer_occupations', 'https://en.wikipedia.org/wiki/Basic_research', 'https://en.wikipedia.org/wiki/Jeff_Hammerbacher', 'https://en.wikipedia.org/wiki/Data_management', 'https://en.wikipedia.org/wiki/National_Science_Board', 'https://en.wikipedia.org/wiki/Data_integrity', 'https://en.wikipedia.org/wiki/Doi_(identifier)', 'https://en.wikipedia.org/wiki/Data_quality', 'https://en.wikipedia.org/wiki/Data_sonification', 'https://en.wikipedia.org/wiki/Nathan_Yau', 'https://en.wikipedia.org/wiki/Wikipedia:General_disclaimer', 'https://en.wikipedia.org/wiki/Data_science', 'https://en.wikipedia.org/wiki/Ben_Fry', 'https://en.wikipedia.org/wiki/Data_wrangling', 'https://en.wikipedia.org/wiki/Special:RecentChangesLinked/Data_science', 'https://en.wikipedia.org/wiki/Special:Random', 'https://en.wikipedia.org/wiki/Complex_systems', 'https://en.wikipedia.org/wiki/Special:SpecialPages', 'https://en.wikipedia.org/wiki/ISBN_(identifier)', 'https://en.wikipedia.org/wiki/Data_collection', 'https://en.wikipedia.org/wiki/Data_fusion', 'https://en.wikipedia.org/wiki/Problem_solving', 'https://en.wikipedia.org/wiki/Data_editing', 'https://en.wikipedia.org/wiki/Data_(computing)', 'https://en.wikipedia.org/wiki/Information_privacy', 'https://en.wikipedia.org/wiki/Help:Category', 'https://en.wikipedia.org/wiki/Category:Computational_fields_of_study', 'https://en.wikipedia.org/wiki/Space_telescope', 'https://en.wikipedia.org/wiki/Category:Information_science', 'https://en.wikipedia.org/wiki/Category:Short_description_matches_Wikidata', 'https://en.wikipedia.org/wiki/Extract,_load,_transform', 'https://en.wikipedia.org/wiki/Data_steward', 'https://en.wikipedia.org/wiki/Data_cleansing', 'https://en.wikipedia.org/wiki/Extract,_transform,_load', 'https://en.wikipedia.org/wiki/Data_publishing', 'https://en.wikipedia.org/wiki/Computational_science', 'https://en.wikipedia.org/wiki/Data_augmentation', 'https://en.wikipedia.org/wiki/Machine_learning', 'https://en.wikipedia.org/wiki/William_S._Cleveland', 'https://en.wikipedia.org/wiki/Statistics', 'https://en.wikipedia.org/wiki/Data_migration', 'https://en.wikipedia.org/wiki/Peter_Naur', 'https://en.wikipedia.org/wiki/Turing_Award', 'https://en.wikipedia.org/wiki/Special:BookSources/978-0-9825442-0-4', 'https://en.wikipedia.org/wiki/John_Tukey', 'https://en.wikipedia.org/wiki/S2CID_(identifier)', 'https://en.wikipedia.org/wiki/Andrew_Gelman', 'https://en.wikipedia.org/wiki/Business', 'https://en.wikipedia.org/wiki/Help:Contents', 'https://en.wikipedia.org/wiki/Scientific_method', 'https://en.wikipedia.org/wiki/Academic_discipline', 'https://en.wikipedia.org/wiki/Data_scrubbing', 'https://en.wikipedia.org/wiki/Interdisciplinarity', 'https://en.wikipedia.org/wiki/Data_security', 'https://en.wikipedia.org/wiki/Information_science', 'https://en.wikipedia.org/wiki/Special:BookSources/0-12-241770-4', 'https://en.wikipedia.org/wiki/Special:WhatLinksHere/Data_science', 'https://en.wikipedia.org/wiki/Data_retention', 'https://en.wikipedia.org/wiki/Data_extraction', 'https://en.wikipedia.org/wiki/Special:MyTalk', 'https://en.wikipedia.org/wiki/Graphic_design', 'https://en.wikipedia.org/wiki/Data_storage', 'https://en.wikipedia.org/wiki/Data_curation', 'https://en.wikipedia.org/wiki/Data_analysis', 'https://en.wikipedia.org/wiki/Jim_Gray_(computer_scientist)', 'https://en.wikipedia.org/wiki/Special:Search', 'https://en.wikipedia.org/wiki/Boston_Globe', 'https://en.wikipedia.org/wiki/Wikipedia:File_upload_wizard', 'https://en.wikipedia.org/wiki/Information_technology', 'https://en.wikipedia.org/wiki/Empirical_research', 'https://en.wikipedia.org/wiki/Big_data', 'https://en.wikipedia.org/wiki/Special:BookSources/9784431702085', 'https://en.wikipedia.org/wiki/Data_recovery', 'https://en.wikipedia.org/wiki/Main_Page', 'https://en.wikipedia.org/wiki/Data_compression', 'https://en.wikipedia.org/wiki/Interdisciplinary', 'https://en.wikipedia.org/wiki/Montpellier_2_University', 'https://en.wikipedia.org/wiki/Data_warehouse', 'https://en.wikipedia.org/wiki/Data_reduction', 'https://en.wikipedia.org/wiki/Communication', 'https://en.wikipedia.org/wiki/Vasant_Dhar', 'https://en.wikipedia.org/wiki/Nate_Silver', 'https://en.wikipedia.org/wiki/Data_pre-processing', 'https://en.wikipedia.org/wiki/Journal_of_Computational_and_Graphical_Statistics', 'https://en.wikipedia.org/wiki/Data_visualization', 'https://en.wikipedia.org/wiki/Analysis', 'https://en.wikipedia.org/wiki/Scientific_computing', 'https://en.wikipedia.org/wiki/Domain_knowledge', 'https://en.wikipedia.org/wiki/Data', 'https://en.wikipedia.org/wiki/Information_visualization', 'https://en.wikipedia.org/wiki/David_Donoho', 'https://en.wikipedia.org/wiki/Data_set', 'https://en.wikipedia.org/wiki/Distributed_computing', 'https://en.wikipedia.org/wiki/Knowledge', 'https://en.wikipedia.org/wiki/American_Statistical_Association', 'https://en.wikipedia.org/wiki/New_York_Times', 'https://en.wikipedia.org/wiki/Mathematics', 'https://en.wikipedia.org/wiki/DJ_Patil', 'https://en.wikipedia.org/wiki/Informatics', 'https://en.wikipedia.org/wiki/Algorithm', 'https://en.wikipedia.org/wiki/Information_explosion', 'https://en.wikipedia.org/wiki/Database', 'https://en.wikipedia.org/wiki/Data_scraping', 'https://en.wikipedia.org/wiki/Columbia_University', 'https://en.wikipedia.org/wiki/Women_in_Data', 'https://en.wikipedia.org/wiki/PMID_(identifier)', 'https://en.wikipedia.org/wiki/Portal:Current_events', 'https://en.wikipedia.org/wiki/Buzzword', 'https://en.wikipedia.org/wiki/C._F._Jeff_Wu', 'https://en.wikipedia.org/wiki/Human%E2%80%93computer_interaction', 'https://en.wikipedia.org/wiki/ODSC', 'https://en.wikipedia.org/wiki/Data_loss', 'https://en.wikipedia.org/wiki/Astronomical_survey', 'https://en.wikipedia.org/wiki/Wide-field_Infrared_Survey_Explorer', 'https://en.wikipedia.org/wiki/Scientific_Data_(journal)', 'https://en.wikipedia.org/wiki/ISSN_(identifier)', 'https://en.wikipedia.org/wiki/Special:RecentChanges', 'https://en.wikipedia.org/wiki/Category:Data_analysis', 'https://en.wikipedia.org/wiki/Computer_science', 'https://en.wikipedia.org/wiki/Data_mining', 'https://en.wikipedia.org/wiki/File:PIA23792-1600x1200(1).jpg', 'https://en.wikipedia.org/wiki/Exploration', 'https://en.wikipedia.org/wiki/Comet_NEOWISE', 'https://en.wikipedia.org/wiki/Wikipedia:Community_portal', 'https://en.wikipedia.org/wiki/Harvard_Business_Review', 'https://en.wikipedia.org/wiki/Forbes']\n"
     ]
    }
   ],
   "source": [
    "url = \"https://en.wikipedia.org/wiki/Data_science\"\n",
    "\n",
    "response = requests.get(url)\n",
    "\n",
    "soup = BeautifulSoup(response.text, \"html.parser\")\n",
    "links = set()\n",
    "\n",
    "for link in soup.find_all(\"a\"):\n",
    "    href = link.get(\"href\")\n",
    "    if href and href.startswith(\"/wiki\"):\n",
    "        href = \"https://en.wikipedia.org\" + href\n",
    "        links.add(href)\n",
    "\n",
    "print(list(links))"
   ]
  },
  {
   "cell_type": "markdown",
   "metadata": {},
   "source": [
    "## Step 3: Use list comprehensions with conditions to clean the link list.\n",
    "\n",
    "There are two types of links, absolute and relative. Absolute links have the full URL and begin with http while relative links begin with a forward slash (/) and point to an internal page within the wikipedia.org domain. Clean the respective types of URLs as follows.\n",
    "\n",
    "- Absolute Links: Create a list of these and remove any that contain a percentage sign (%).\n",
    "- Relativel Links: Create a list of these, add the domain to the link so that you have the full URL, and remove any that contain a percentage sign (%).\n",
    "- Combine the list of absolute and relative links and ensure there are no duplicates."
   ]
  },
  {
   "cell_type": "code",
   "execution_count": 41,
   "metadata": {},
   "outputs": [],
   "source": [
    "domain = 'http://wikipedia.org'"
   ]
  },
  {
   "cell_type": "code",
   "execution_count": 43,
   "metadata": {},
   "outputs": [
    {
     "name": "stdout",
     "output_type": "stream",
     "text": [
      "['http://wikipedia.org//www.worldcat.org/issn/0360-0300', 'http://wikipedia.org/wiki/Data_science', 'https://et.wikipedia.org/wiki/Andmeteadus', 'http://wikipedia.org/wiki/Scientific_method', 'http://wikipedia.org/wiki/American_Statistical_Association', 'http://wikipedia.org/wiki/Jim_Gray_(computer_scientist)', 'http://wikipedia.org/wiki/Data_storage', 'http://wikipedia.org/wiki/Columbia_University', 'https://towardsdatascience.com/how-data-science-will-impact-future-of-businesses-7f11f5699c4d', 'http://wikipedia.org/wiki/Domain_knowledge', 'http://wikipedia.org/wiki/William_S._Cleveland', 'https://de.wikipedia.org/wiki/Data_Science', 'https://api.semanticscholar.org/CorpusID:9743327', 'http://archive.nyu.edu/handle/2451/31553', 'http://wikipedia.org/wiki/Thomas_H._Davenport', 'http://www2.isye.gatech.edu/~jeffwu/presentations/datascience.pdf', 'http://wikipedia.org/wiki/Wikipedia:File_upload_wizard', 'https://cs.wikipedia.org/wiki/Data_science', 'http://wikipedia.org/wiki/Data_scrubbing', 'http://wikipedia.org/wiki/Wikipedia:Contents', 'http://wikipedia.org/w/index.php?title=Data_science&action=edit&section=2', 'http://wikipedia.org/wiki/John_Tukey', 'http://wikipedia.org/wiki/Statistics', 'http://wikipedia.org/wiki/Problem_solving', 'http://wikipedia.org/wiki/Buzzword', 'http://wikipedia.org/w/index.php?title=Application_of_Statistics_and_Management&action=edit&redlink=1', 'https://www.nsf.gov/pubs/2005/nsb0540/', 'http://wikipedia.org/wiki/Data_quality', 'http://wikipedia.org//www.wikimediafoundation.org/', 'https://stats.wikimedia.org/#/en.wikipedia.org', 'http://wikipedia.org/wiki/Data_integration', 'http://wikipedia.org/wiki/Turing_Award', 'http://wikipedia.org/wiki/Computer_science', 'http://wikipedia.org//pubmed.ncbi.nlm.nih.gov/19265007', 'https://eu.wikipedia.org/wiki/Datu_zientzia', 'http://wikipedia.org/wiki/Scientific_Data_(journal)', 'http://wikipedia.org/wiki/Category:Computational_fields_of_study', 'http://wikipedia.org/wiki/Distributed_computing', 'http://wikipedia.org/wiki/Data_pre-processing', 'https://www.springer.com/book/9784431702085', 'http://wikipedia.org/wiki/Special:MyTalk', 'http://wikipedia.org/wiki/Vasant_Dhar', 'https://nl.wikipedia.org/wiki/Datawetenschap', 'https://statmodeling.stat.columbia.edu/2013/11/14/statistics-least-important-part-data-science/', 'http://wikipedia.org//www.worldcat.org/issn/0017-8012', 'https://web.archive.org/web/20141109113411/http://cacm.acm.org/magazines/2013/12/169933-data-science-and-prediction/fulltext', 'https://www.mediawiki.org/', 'http://wikipedia.org/wiki/DJ_Patil', 'http://wikipedia.org/wiki/Data_loading', 'https://foundation.wikimedia.org/wiki/Cookie_statement', 'http://wikipedia.org/wiki/Data_transformation', 'http://wikipedia.org/wiki/Help:Category', 'https://dstf.acm.org/DSTF_Final_Report.pdf', 'https://tr.wikipedia.org/wiki/Veri_bilimi', 'http://wikipedia.org/wiki/Data_corruption', 'http://wikipedia.org/wiki/New_York_City', 'http://wikipedia.org/wiki/Mathematics', 'https://www.stat.purdue.edu/~wsc/', 'https://www.oreilly.com/library/view/doing-data-science/9781449363871/ch01.html', 'http://wikipedia.org/wiki/Special:RecentChanges', 'http://wikipedia.org/wiki/Informatics', 'https://magazine.amstat.org/blog/2016/06/01/datascience-2/', 'http://wikipedia.org/wiki/Data_collection', 'https://web.archive.org/web/20170320193019/https://books.google.com/books?id=oGs_AQAAIAAJ', 'https://web.archive.org/web/20200810114002/http://www.datascienceassn.org/about-data-science', 'http://wikipedia.org/wiki/Information_visualization', 'http://wikipedia.org/wiki/Data_fusion', 'http://cacm.acm.org/magazines/2013/12/169933-data-science-and-prediction/fulltext', 'http://wikipedia.org/w/index.php?title=Data_science&oldid=1138351123', 'http://wikipedia.org/wiki/Data_preservation', 'http://wikipedia.org/wiki/C._F._Jeff_Wu', 'http://wikipedia.org/wiki/Nate_Silver', 'http://wikipedia.org/w/index.php?title=Data_science&action=edit&section=6', 'https://www.forbes.com/sites/gilpress/2013/05/28/a-very-short-history-of-data-science/', 'https://www.forbes.com/sites/peterpham/2015/08/28/the-impacts-of-big-data-that-you-may-not-have-heard-of/', 'http://wikipedia.org/wiki/Extract,_load,_transform', 'http://wikipedia.org/wiki/Wikipedia:Community_portal', 'http://wikipedia.org/wiki/Data', 'http://wikipedia.org/wiki/Data_publishing', 'http://wikipedia.org/wiki/Special:Random', 'http://wikipedia.org/wiki/Knowledge', 'http://wikipedia.org/wiki/Talk:Data_science', 'http://wikipedia.org/wiki/Data_extraction', 'http://wikipedia.org/wiki/Data_mining', 'http://wikipedia.org/wiki/OCLC_(identifier)', 'http://wikipedia.org/wiki/Template_talk:Data', 'https://www2.isye.gatech.edu/~jeffwu/publications/fazhan.pdf', 'https://hbr.org/2022/07/is-data-scientist-still-the-sexiest-job-of-the-21st-century', 'http://priceonomics.com/whats-the-difference-between-data-science-and/', 'https://flowingdata.com/2009/06/04/rise-of-the-data-scientist/', 'http://wikipedia.org/w/index.php?title=Data_science&printable=yes', 'http://wikipedia.org//creativecommons.org/licenses/by-sa/3.0/', 'http://wikipedia.org/wiki/Special:BookSources/978-0-9825442-0-4', 'https://foundation.wikimedia.org/wiki/Privacy_policy', 'https://www.bostonglobe.com/business/2015/11/11/behind-scenes-sexiest-job-century/Kc1cvXIu31DfHhVmyRQeIJ/story.html', 'http://wikipedia.org/wiki/Empirical_research', 'https://es.wikipedia.org/wiki/Ciencia_de_datos', 'http://wikipedia.org/wiki/Data_warehouse', 'http://www.datascienceassn.org/about-data-science', 'http://wikipedia.org/wiki/Interdisciplinary', 'http://wikipedia.org//foundation.wikimedia.org/wiki/Privacy_policy', 'http://wikipedia.org/w/index.php?title=Data_science&action=edit&section=5', 'http://wikipedia.org/wiki/Information_privacy', 'http://wikipedia.org/wiki/Analysis', 'http://wikipedia.org/wiki/Basic_research', 'http://wikipedia.org/wiki/Data_management', 'http://wikipedia.org/wiki/Main_Page', 'https://api.semanticscholar.org/CorpusID:207595944', 'http://wikipedia.org/wiki/PMID_(identifier)', 'https://books.google.com/books?id=oGs_AQAAIAAJ', 'http://wikipedia.org/wiki/Wikipedia:About', 'http://wikipedia.org/w/index.php?title=Special:DownloadAsPdf&page=Data_science&action=show-download-screen', 'http://wikipedia.org/wiki/Big_data', 'https://hbr.org/2012/10/data-scientist-the-sexiest-job-of-the-21st-century', 'https://www.forbes.com/sites/gilpress/2013/08/19/data-science-whats-the-half-life-of-a-buzzword/', 'http://wikipedia.org/wiki/Data_migration', 'http://wikipedia.org/wiki/Data_recovery', 'http://wikipedia.org/wiki/Graphic_design', 'http://wikipedia.org/w/index.php?title=Data_science&action=history', 'http://wikipedia.org/wiki/Business', 'http://wikipedia.org/wiki/Journal_of_Computational_and_Graphical_Statistics', 'http://wikipedia.org/wiki/Boston_Globe', 'http://wikipedia.org/wiki/Data_lineage', 'http://wikipedia.org/wiki/Boston', 'https://www.statisticsviews.com/article/nate-silver-what-i-need-from-statisticians/', 'https://api.semanticscholar.org/CorpusID:114558008', 'http://wikipedia.org/wiki/Interdisciplinarity', 'http://wikipedia.org//www.worldcat.org/oclc/489990740', 'http://wikipedia.org/wiki/Data_editing', 'http://wikipedia.org/wiki/Data_scraping', 'http://wikipedia.org/wiki/Help:Contents', 'https://it.wikipedia.org/wiki/Scienza_dei_dati', 'http://wikipedia.org/wiki/Montpellier_2_University', 'http://wikipedia.org/wiki/Special:MyContributions', 'http://wikipedia.org/wiki/Jeff_Hammerbacher', 'http://wikipedia.org/wiki/ISSN_(identifier)', 'http://wikipedia.org/w/index.php?title=Special:CiteThisPage&page=Data_science&id=1138351123&wpFormIdentifier=titleform', 'https://hbr.org/2012/10/data-scientist-the-sexiest-job-of-the-21st-century/', 'http://wikipedia.org/wiki/Special:BookSources/0-12-241770-4', 'http://wikipedia.org/wiki/Data_wrangling', 'https://en.wikipedia.org/w/index.php?title=Template:Data&action=edit', 'https://magazine.amstat.org/blog/2015/10/01/asa-statement-on-the-role-of-statistics-in-data-science/', 'http://wikipedia.org/wiki/Category:Articles_with_short_description', 'http://wikipedia.org/wiki/Category:Information_science', 'http://wikipedia.org/wiki/Peter_Naur', 'https://www.wikidata.org/wiki/Special:EntityPage/Q2374463', 'http://wikipedia.org/w/index.php?title=Special:CreateAccount&returnto=Data+science', 'http://wikipedia.org/wiki/Comet_NEOWISE', 'https://ms.wikipedia.org/wiki/Sains_data', 'http://wikipedia.org/wiki/Information_technology', 'http://wikipedia.org/wiki/Complex_systems', 'http://courses.csail.mit.edu/18.337/2015/docs/50YearsDataScience.pdf', 'http://wikipedia.org/wiki/Special:Search', 'http://wikipedia.org/wiki/Data_security', 'http://wikipedia.org/wiki/Academic_discipline', 'http://wikipedia.org/wiki/Data_philanthropy', 'http://wikipedia.org//en.m.wikipedia.org/w/index.php?title=Data_science&mobileaction=toggle_view_mobile', 'http://wikipedia.org/wiki/David_Donoho', 'http://wikipedia.org/wiki/Astronomical_survey', 'https://api.semanticscholar.org/CorpusID:6107147', 'https://id.wikipedia.org/wiki/Ilmu_data', 'http://wikipedia.org/wiki/Scientific_computing', 'http://wikipedia.org/wiki/Data_archaeology', 'http://wikipedia.org/wiki/Data_degradation', 'http://wikipedia.org/wiki/Data_farming', 'http://wikipedia.org/wiki/Data_cleansing', 'http://wikipedia.org/wiki/Data_library', 'http://wikipedia.org//foundation.wikimedia.org/wiki/Terms_of_Use', 'http://wikipedia.org//pubmed.ncbi.nlm.nih.gov/23074866', 'http://wikipedia.org/wiki/Communication', 'http://wikipedia.org/w/index.php?title=Data_science&action=edit&section=4', 'https://benfry.com/phd/dissertation/2.html', 'http://wikipedia.org/wiki/Data_(computing)', 'https://medriscoll.com/post/4740157098/the-three-sexy-skills-of-data-geeks', 'http://wikipedia.org/w/index.php?title=Data_science&action=edit', 'http://wikipedia.org/wiki/Special:WhatLinksHere/Data_science', 'https://no.wikipedia.org/wiki/Datavitenskap', 'https://www.nytimes.com/2013/04/14/education/edlife/universities-offer-courses-in-a-hot-new-field-data-science.html', 'http://wikipedia.org/wiki/Data_reduction', 'http://wikipedia.org/wiki/Database', 'https://www.wikidata.org/wiki/Special:EntityPage/Q2374463#sitelinks-wikipedia', 'http://wikipedia.org/wiki/Forbes', 'http://wikipedia.org/wiki/Data_loss', 'http://wikipedia.org/wiki/Doi_(identifier)', 'http://wikipedia.org/wiki/File:PIA23792-1600x1200(1).jpg', 'http://wikipedia.org/wiki/Data_curation', 'http://wikipedia.org/wiki/Ben_Fry', 'http://wikipedia.org/wiki/Special:RecentChangesLinked/Data_science', 'http://wikipedia.org/wiki/Computational_science', 'http://wikipedia.org/wiki/Special:BookSources/9784431702085', 'http://wikipedia.org/wiki/Data_augmentation', 'https://developer.wikimedia.org', 'http://wikipedia.org/wiki/Template:Data', 'http://wikipedia.org//en.wikipedia.org/wiki/Wikipedia:Contact_us', 'http://wikipedia.org/wiki/Unstructured_data', 'http://wikipedia.org/wiki/Committee_on_Data_for_Science_and_Technology', 'http://wikipedia.org/wiki/Data_validation', 'http://wikipedia.org/wiki/Andrew_Gelman', 'http://wikipedia.org/wiki/Extract,_transform,_load', 'https://pl.wikipedia.org/wiki/Danologia', 'http://wikipedia.org/wiki/National_Science_Board', 'https://commons.wikimedia.org/wiki/Category:Data_science', 'http://wikipedia.org//www.worldcat.org/issn/0036-8075', 'http://wikipedia.org/wiki/Wikipedia:File_Upload_Wizard', 'https://web.archive.org/web/20190620184935/https://magazine.amstat.org/blog/2015/10/01/asa-statement-on-the-role-of-statistics-in-data-science/', 'http://wikipedia.org/wiki/ISBN_(identifier)', 'http://wikipedia.org/wiki/Phenomena', 'http://wikipedia.org/wiki/Exploration', 'http://wikipedia.org/wiki/Information_explosion', 'http://wikipedia.org/wiki/Data_retention', 'http://wikipedia.org/wiki/Help:Introduction', 'http://wikipedia.org/wiki/Data_analysis', 'http://wikipedia.org/wiki/Wikipedia:General_disclaimer', 'https://eo.wikipedia.org/wiki/Datuma_scienco', 'http://wikipedia.org/wiki/Data_set', 'https://simple.wikipedia.org/wiki/Data_science', 'http://wikipedia.org/w/index.php?title=Data_science&action=edit&section=7', 'http://wikipedia.org/wiki/Data_format_management', 'https://en.wikipedia.org/w/index.php?title=Data_science&oldid=1138351123', 'http://wikipedia.org/wiki/Women_in_Data', 'http://wikipedia.org/wiki/Space_telescope', 'http://wikipedia.org/wiki/Data_steward', 'http://wikipedia.org/wiki/Category:Computer_occupations', 'http://wikipedia.org/wiki/Harvard_Business_Review', 'http://wikipedia.org/wiki/New_York_Times', 'http://wikipedia.org/wiki/Portal:Current_events', 'http://wikipedia.org/wiki/Category:Short_description_matches_Wikidata', 'http://wikipedia.org/wiki/Information_science', 'http://wikipedia.org/wiki/Special:SpecialPages', 'http://wikipedia.org/wiki/Wide-field_Infrared_Survey_Explorer', 'http://wikipedia.org/wiki/Data_visualization', 'http://wikipedia.org/wiki/Category:Data_analysis', 'http://wikipedia.org/wiki/Category:Use_dmy_dates_from_August_2021', 'http://wikipedia.org/wiki/S2CID_(identifier)', 'https://wikimediafoundation.org/', 'http://wikipedia.org/wiki/ODSC', 'http://wikipedia.org//en.wikipedia.org/wiki/Wikipedia:Text_of_the_Creative_Commons_Attribution-ShareAlike_3.0_Unported_License', 'https://donate.wikimedia.org/wiki/Special:FundraiserRedirector?utm_source=donate&utm_medium=sidebar&utm_campaign=C13_en.wikipedia.org&uselang=en', 'http://wikipedia.org/w/index.php?title=Data_science&action=edit&section=1', 'http://wikipedia.org/w/index.php?title=Data_science&action=info', 'http://wikipedia.org/wiki/Nathan_Yau', 'http://wikipedia.org/wiki/Machine_learning', 'http://wikipedia.org/w/index.php?title=Special:UserLogin&returnto=Data+science', 'http://wikipedia.org/wiki/Algorithm', 'https://cacm.acm.org/blogs/blog-cacm/267286-why-is-it-hard-to-define-data-science/fulltext', 'http://wikipedia.org/w/index.php?title=Data_science&action=edit&section=3', 'https://en.wikiversity.org/wiki/Data_science', 'http://wikipedia.org/wiki/Data_sonification', 'https://fi.wikipedia.org/wiki/Datatiede', 'http://wikipedia.org/wiki/Data_compression', 'http://wikipedia.org/wiki/Data_integrity']\n"
     ]
    }
   ],
   "source": [
    "url = \"https://en.wikipedia.org/wiki/Data_science\"\n",
    "response = requests.get(url)\n",
    "soup = BeautifulSoup(response.text, \"html.parser\")\n",
    "\n",
    "links = set()\n",
    "for link in soup.find_all(\"a\"):\n",
    "    href = link.get(\"href\")\n",
    "    if href and \"%\" not in href:\n",
    "        if href.startswith(\"http\"):\n",
    "            links.add(href)\n",
    "        elif href.startswith(\"/\"):\n",
    "            links.add(domain + href)\n",
    "\n",
    "combined_links = list(links)\n",
    "print(combined_links)"
   ]
  },
  {
   "cell_type": "markdown",
   "metadata": {},
   "source": [
    "## Step 4: Use the os library to create a folder called *wikipedia* and make that the current working directory."
   ]
  },
  {
   "cell_type": "code",
   "execution_count": 44,
   "metadata": {},
   "outputs": [],
   "source": [
    "import os"
   ]
  },
  {
   "cell_type": "code",
   "execution_count": 48,
   "metadata": {},
   "outputs": [
    {
     "data": {
      "text/plain": [
       "'/home/paula/Labs/4.4-lab-parallelization/your-code'"
      ]
     },
     "execution_count": 48,
     "metadata": {},
     "output_type": "execute_result"
    }
   ],
   "source": [
    "os.getcwd()"
   ]
  },
  {
   "cell_type": "code",
   "execution_count": 49,
   "metadata": {},
   "outputs": [],
   "source": [
    "os.mkdir(\"wikipedia\")"
   ]
  },
  {
   "cell_type": "markdown",
   "metadata": {},
   "source": [
    "## Step 5: Write a function called index_page that accepts a link and does the following.\n",
    "\n",
    "- Tries to request the content of the page referenced by that link.\n",
    "- Slugifies the filename using the `slugify` function from the [python-slugify](https://pypi.org/project/python-slugify/) library and adds a .html file extension.\n",
    "    - If you don't already have the python-slugify library installed, you can pip install it as follows: `$ pip install python-slugify`.\n",
    "    - To import the slugify function, you would do the following: `from slugify import slugify`.\n",
    "    - You can then slugify a link as follows `slugify(link)`.\n",
    "- Creates a file in the wikipedia folder using the slugified filename and writes the contents of the page to the file.\n",
    "- If an exception occurs during the process above, just `pass`."
   ]
  },
  {
   "cell_type": "code",
   "execution_count": 50,
   "metadata": {},
   "outputs": [
    {
     "name": "stdout",
     "output_type": "stream",
     "text": [
      "Collecting python-slugify\n",
      "  Downloading python_slugify-8.0.0-py2.py3-none-any.whl (9.5 kB)\n",
      "Collecting text-unidecode>=1.3\n",
      "  Downloading text_unidecode-1.3-py2.py3-none-any.whl (78 kB)\n",
      "\u001b[2K     \u001b[38;2;114;156;31m━━━━━━━━━━━━━━━━━━━━━━━━━━━━━━━━━━━━━━━━\u001b[0m \u001b[32m78.2/78.2 kB\u001b[0m \u001b[31m1.1 MB/s\u001b[0m eta \u001b[36m0:00:00\u001b[0m[31m3.1 MB/s\u001b[0m eta \u001b[36m0:00:01\u001b[0m\n",
      "\u001b[?25hInstalling collected packages: text-unidecode, python-slugify\n",
      "Successfully installed python-slugify-8.0.0 text-unidecode-1.3\n"
     ]
    }
   ],
   "source": [
    "!pip install python-slugify"
   ]
  },
  {
   "cell_type": "code",
   "execution_count": 62,
   "metadata": {},
   "outputs": [],
   "source": [
    "from slugify import slugify\n",
    "import os\n",
    "unicode=str()"
   ]
  },
  {
   "cell_type": "code",
   "execution_count": 61,
   "metadata": {},
   "outputs": [],
   "source": [
    "def index_page(url):\n",
    "\n",
    "    try:\n",
    "        response = requests.get(link)\n",
    "        filename = slugify(link) + \".html\"\n",
    "        folder = \"wikipedia\"\n",
    "        if not os.path.exists(folder):\n",
    "            os.makedirs(folder)\n",
    "        file_path = os.path.join(folder, filename)\n",
    "        with open(file_path, \"w\") as file:\n",
    "            file.write(response.text)\n",
    "    except:\n",
    "             pass\n",
    "\n"
   ]
  },
  {
   "cell_type": "markdown",
   "metadata": {},
   "source": [
    "## Step 6: Sequentially loop through the list of links, running the index_page function each time.\n",
    "\n",
    "Remember to include `%%time` at the beginning of the cell so that it measures the time it takes for the cell to run."
   ]
  },
  {
   "cell_type": "code",
   "execution_count": null,
   "metadata": {},
   "outputs": [],
   "source": [
    "#your code"
   ]
  },
  {
   "cell_type": "markdown",
   "metadata": {},
   "source": [
    "## Step 7: Perform the page indexing in parallel and note the difference in performance.\n",
    "\n",
    "Remember to include `%%time` at the beginning of the cell so that it measures the time it takes for the cell to run."
   ]
  },
  {
   "cell_type": "code",
   "execution_count": 39,
   "metadata": {},
   "outputs": [],
   "source": [
    "import multiprocessing"
   ]
  },
  {
   "cell_type": "code",
   "execution_count": null,
   "metadata": {},
   "outputs": [],
   "source": [
    "#your code"
   ]
  }
 ],
 "metadata": {
  "kernelspec": {
   "display_name": "Python 3 (ipykernel)",
   "language": "python",
   "name": "python3"
  },
  "language_info": {
   "codemirror_mode": {
    "name": "ipython",
    "version": 3
   },
   "file_extension": ".py",
   "mimetype": "text/x-python",
   "name": "python",
   "nbconvert_exporter": "python",
   "pygments_lexer": "ipython3",
   "version": "3.10.8"
  },
  "toc": {
   "base_numbering": 1,
   "nav_menu": {},
   "number_sections": true,
   "sideBar": true,
   "skip_h1_title": false,
   "title_cell": "Table of Contents",
   "title_sidebar": "Contents",
   "toc_cell": true,
   "toc_position": {},
   "toc_section_display": true,
   "toc_window_display": false
  },
  "varInspector": {
   "cols": {
    "lenName": 16,
    "lenType": 16,
    "lenVar": 40
   },
   "kernels_config": {
    "python": {
     "delete_cmd_postfix": "",
     "delete_cmd_prefix": "del ",
     "library": "var_list.py",
     "varRefreshCmd": "print(var_dic_list())"
    },
    "r": {
     "delete_cmd_postfix": ") ",
     "delete_cmd_prefix": "rm(",
     "library": "var_list.r",
     "varRefreshCmd": "cat(var_dic_list()) "
    }
   },
   "types_to_exclude": [
    "module",
    "function",
    "builtin_function_or_method",
    "instance",
    "_Feature"
   ],
   "window_display": false
  }
 },
 "nbformat": 4,
 "nbformat_minor": 4
}
