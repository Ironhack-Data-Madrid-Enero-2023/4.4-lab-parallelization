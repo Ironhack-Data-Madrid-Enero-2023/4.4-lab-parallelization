{
 "cells": [
  {
   "cell_type": "markdown",
   "metadata": {
    "toc": true
   },
   "source": [
    "<h1>Table of Contents<span class=\"tocSkip\"></span></h1>\n",
    "<div class=\"toc\"><ul class=\"toc-item\"><li><span><a href=\"#Parallelization-Lab\" data-toc-modified-id=\"Parallelization-Lab-1\"><span class=\"toc-item-num\">1&nbsp;&nbsp;</span>Parallelization Lab</a></span><ul class=\"toc-item\"><li><span><a href=\"#Step-1:-Use-the-requests-library-to-retrieve-the-content-from-the-URL-below.\" data-toc-modified-id=\"Step-1:-Use-the-requests-library-to-retrieve-the-content-from-the-URL-below.-1.1\"><span class=\"toc-item-num\">1.1&nbsp;&nbsp;</span>Step 1: Use the requests library to retrieve the content from the URL below.</a></span></li><li><span><a href=\"#Step-2:-Use-BeautifulSoup-to-extract-a-list-of-all-the-unique-links-on-the-page.\" data-toc-modified-id=\"Step-2:-Use-BeautifulSoup-to-extract-a-list-of-all-the-unique-links-on-the-page.-1.2\"><span class=\"toc-item-num\">1.2&nbsp;&nbsp;</span>Step 2: Use BeautifulSoup to extract a list of all the unique links on the page.</a></span></li><li><span><a href=\"#Step-3:-Use-list-comprehensions-with-conditions-to-clean-the-link-list.\" data-toc-modified-id=\"Step-3:-Use-list-comprehensions-with-conditions-to-clean-the-link-list.-1.3\"><span class=\"toc-item-num\">1.3&nbsp;&nbsp;</span>Step 3: Use list comprehensions with conditions to clean the link list.</a></span></li><li><span><a href=\"#Step-4:-Use-the-os-library-to-create-a-folder-called-wikipedia-and-make-that-the-current-working-directory.\" data-toc-modified-id=\"Step-4:-Use-the-os-library-to-create-a-folder-called-wikipedia-and-make-that-the-current-working-directory.-1.4\"><span class=\"toc-item-num\">1.4&nbsp;&nbsp;</span>Step 4: Use the os library to create a folder called <em>wikipedia</em> and make that the current working directory.</a></span></li><li><span><a href=\"#Step-5:-Write-a-function-called-index_page-that-accepts-a-link-and-does-the-following.\" data-toc-modified-id=\"Step-5:-Write-a-function-called-index_page-that-accepts-a-link-and-does-the-following.-1.5\"><span class=\"toc-item-num\">1.5&nbsp;&nbsp;</span>Step 5: Write a function called index_page that accepts a link and does the following.</a></span></li><li><span><a href=\"#Step-6:-Sequentially-loop-through-the-list-of-links,-running-the-index_page-function-each-time.\" data-toc-modified-id=\"Step-6:-Sequentially-loop-through-the-list-of-links,-running-the-index_page-function-each-time.-1.6\"><span class=\"toc-item-num\">1.6&nbsp;&nbsp;</span>Step 6: Sequentially loop through the list of links, running the index_page function each time.</a></span></li><li><span><a href=\"#Step-7:-Perform-the-page-indexing-in-parallel-and-note-the-difference-in-performance.\" data-toc-modified-id=\"Step-7:-Perform-the-page-indexing-in-parallel-and-note-the-difference-in-performance.-1.7\"><span class=\"toc-item-num\">1.7&nbsp;&nbsp;</span>Step 7: Perform the page indexing in parallel and note the difference in performance.</a></span></li></ul></li></ul></div>"
   ]
  },
  {
   "cell_type": "markdown",
   "metadata": {},
   "source": [
    "# Parallelization Lab\n",
    "\n",
    "In this lab, you will be leveraging several concepts you have learned to obtain a list of links from a web page and crawl and index the pages referenced by those links - both sequentially and in parallel. Follow the steps below to complete the lab."
   ]
  },
  {
   "cell_type": "markdown",
   "metadata": {},
   "source": [
    "## Step 1: Use the requests library to retrieve the content from the URL below.\n",
    "\n",
    "https://en.wikipedia.org/wiki/Data_science"
   ]
  },
  {
   "cell_type": "code",
   "execution_count": 1,
   "metadata": {},
   "outputs": [],
   "source": [
    "import requests as req\n",
    "\n",
    "url = 'https://en.wikipedia.org/wiki/Data_science'"
   ]
  },
  {
   "cell_type": "code",
   "execution_count": 2,
   "metadata": {},
   "outputs": [],
   "source": [
    "req.get(url)\n",
    "\n",
    "html = req.get(url).content"
   ]
  },
  {
   "cell_type": "markdown",
   "metadata": {},
   "source": [
    "## Step 2: Use BeautifulSoup to extract a list of all the unique links on the page."
   ]
  },
  {
   "cell_type": "code",
   "execution_count": 3,
   "metadata": {},
   "outputs": [],
   "source": [
    "from bs4 import BeautifulSoup as bs\n",
    "import re"
   ]
  },
  {
   "cell_type": "code",
   "execution_count": 4,
   "metadata": {
    "scrolled": true
   },
   "outputs": [
    {
     "name": "stdout",
     "output_type": "stream",
     "text": [
      "Duplicado: https://api.semanticscholar.org/CorpusID:6107147\n",
      "Duplicado: https://hbr.org/2012/10/data-scientist-the-sexiest-job-of-the-21st-century\n"
     ]
    },
    {
     "data": {
      "text/plain": [
       "['https://donate.wikimedia.org/wiki/Special:FundraiserRedirector?utm_source=donate&utm_medium=sidebar&utm_campaign=C13_en.wikipedia.org&uselang=en',\n",
       " 'https://www.wikidata.org/wiki/Special:EntityPage/Q2374463',\n",
       " 'https://commons.wikimedia.org/wiki/Category:Data_science',\n",
       " 'https://en.wikiversity.org/wiki/Data_science',\n",
       " 'https://cs.wikipedia.org/wiki/Data_science']"
      ]
     },
     "execution_count": 4,
     "metadata": {},
     "output_type": "execute_result"
    }
   ],
   "source": [
    "sopa = bs(html, 'html.parser')\n",
    "\n",
    "links = []\n",
    "\n",
    "for a in sopa.find_all('a', href=True): \n",
    "    \n",
    "    if a.text: links.append(a['href'])\n",
    "        \n",
    "    else: pass\n",
    "    \n",
    "links = [e for e in links if 'https' in e and '%' not in e]\n",
    "\n",
    "links_unique = []\n",
    "\n",
    "for e in links:\n",
    "    \n",
    "    if e not in links_unique: links_unique.append(e)\n",
    "        \n",
    "    else: print(f'Duplicado: {e}')\n",
    "        \n",
    "links_unique[:5]"
   ]
  },
  {
   "cell_type": "markdown",
   "metadata": {},
   "source": [
    "## Step 3: Use list comprehensions with conditions to clean the link list.\n",
    "\n",
    "There are two types of links, absolute and relative. Absolute links have the full URL and begin with http while relative links begin with a forward slash (/) and point to an internal page within the wikipedia.org domain. Clean the respective types of URLs as follows.\n",
    "\n",
    "- Absolute Links: Create a list of these and remove any that contain a percentage sign (%).\n",
    "- Relativel Links: Create a list of these, add the domain to the link so that you have the full URL, and remove any that contain a percentage sign (%).\n",
    "- Combine the list of absolute and relative links and ensure there are no duplicates."
   ]
  },
  {
   "cell_type": "code",
   "execution_count": 5,
   "metadata": {},
   "outputs": [],
   "source": [
    "domain = 'http://wikipedia.org'"
   ]
  },
  {
   "cell_type": "code",
   "execution_count": 6,
   "metadata": {},
   "outputs": [
    {
     "name": "stdout",
     "output_type": "stream",
     "text": [
      "Duplicado: https://api.semanticscholar.org/CorpusID:6107147\n",
      "Duplicado: https://hbr.org/2012/10/data-scientist-the-sexiest-job-of-the-21st-century\n",
      "Duplicado: https://wikipedia.org/w/index.php?title=Special:CreateAccount&returnto=Data+science\n",
      "Duplicado: https://wikipedia.org/wiki/Main_Page\n",
      "Duplicado: https://wikipedia.org/wiki/Help:Introduction\n",
      "Duplicado: https://wikipedia.org/wiki/Data_science\n",
      "Duplicado: https://wikipedia.org/wiki/Data_science\n",
      "Duplicado: https://wikipedia.org/w/index.php?title=Data_science&action=edit\n",
      "Duplicado: https://wikipedia.org/w/index.php?title=Data_science&action=history\n",
      "Duplicado: https://wikipedia.org/wiki/Statistics\n",
      "Duplicado: https://wikipedia.org/wiki/Scientific_method\n",
      "Duplicado: https://wikipedia.org/wiki/Information_science\n",
      "Duplicado: https://wikipedia.org/wiki/Computer_science\n",
      "Duplicado: https://wikipedia.org/wiki/C._F._Jeff_Wu\n",
      "Duplicado: https://wikipedia.org/wiki/American_Statistical_Association\n",
      "Duplicado: https://wikipedia.org/wiki/DJ_Patil\n",
      "Duplicado: https://wikipedia.org/wiki/Big_data\n",
      "Duplicado: https://wikipedia.org/wiki/Doi_(identifier)\n",
      "Duplicado: https://wikipedia.org/wiki/S2CID_(identifier)\n",
      "Duplicado: https://wikipedia.org/wiki/Doi_(identifier)\n",
      "Duplicado: https://wikipedia.org/wiki/Doi_(identifier)\n",
      "Duplicado: https://wikipedia.org/wiki/S2CID_(identifier)\n",
      "Duplicado: https://wikipedia.org/wiki/ISBN_(identifier)\n",
      "Duplicado: https://wikipedia.org/wiki/Doi_(identifier)\n",
      "Duplicado: https://wikipedia.org/wiki/ISSN_(identifier)\n",
      "Duplicado: https://wikipedia.org/wiki/S2CID_(identifier)\n",
      "Duplicado: https://wikipedia.org/wiki/PMID_(identifier)\n",
      "Duplicado: https://wikipedia.org/wiki/Doi_(identifier)\n",
      "Duplicado: https://wikipedia.org/wiki/American_Statistical_Association\n",
      "Duplicado: https://wikipedia.org/wiki/Doi_(identifier)\n",
      "Duplicado: https://wikipedia.org/wiki/S2CID_(identifier)\n",
      "Duplicado: https://wikipedia.org/wiki/ISBN_(identifier)\n",
      "Duplicado: https://wikipedia.org/wiki/Doi_(identifier)\n",
      "Duplicado: https://wikipedia.org/wiki/Harvard_Business_Review\n",
      "Duplicado: https://wikipedia.org/wiki/New_York_Times\n",
      "Duplicado: https://wikipedia.org/wiki/Boston_Globe\n",
      "Duplicado: https://wikipedia.org/wiki/Harvard_Business_Review\n",
      "Duplicado: https://wikipedia.org/wiki/American_Statistical_Association\n",
      "Duplicado: https://wikipedia.org/wiki/ISSN_(identifier)\n",
      "Duplicado: https://wikipedia.org/wiki/Data_analysis\n",
      "Duplicado: https://wikipedia.org/wiki/Big_data\n",
      "Duplicado: https://wikipedia.org/wiki/Data_integration\n",
      "Duplicado: https://wikipedia.org/wiki/Data_mining\n",
      "Duplicado: https://wikipedia.org/wiki/Wikipedia:About\n",
      "Duplicado: https://wikipedia.org//en.wikipedia.org/wiki/Wikipedia:Contact_us\n"
     ]
    },
    {
     "data": {
      "text/plain": [
       "['https://donate.wikimedia.org/wiki/Special:FundraiserRedirector?utm_source=donate&utm_medium=sidebar&utm_campaign=C13_en.wikipedia.org&uselang=en',\n",
       " 'https://www.wikidata.org/wiki/Special:EntityPage/Q2374463',\n",
       " 'https://commons.wikimedia.org/wiki/Category:Data_science',\n",
       " 'https://en.wikiversity.org/wiki/Data_science',\n",
       " 'https://cs.wikipedia.org/wiki/Data_science']"
      ]
     },
     "execution_count": 6,
     "metadata": {},
     "output_type": "execute_result"
    }
   ],
   "source": [
    "html = req.get(url).content\n",
    "\n",
    "sopa = bs(html, 'html.parser')\n",
    "\n",
    "links = []\n",
    "\n",
    "for a in sopa.find_all('a', href=True): \n",
    "    \n",
    "    if a.text: links.append(a['href'])\n",
    "        \n",
    "    else: pass\n",
    "    \n",
    "links = [e for e in links if '#' not in e]\n",
    "\n",
    "links_unique = [e for e in links if '%' not in e and 'https' in e] \n",
    "\n",
    "links_relative = ['https://wikipedia.org'+e for e in links if 'https' not in e and '%' not in e]\n",
    "    \n",
    "links_final = links_unique + links_relative\n",
    "\n",
    "links_unique = []\n",
    "\n",
    "for e in links_final:\n",
    "    \n",
    "    if e not in links_unique: links_unique.append(e)\n",
    "        \n",
    "    else: print(f'Duplicado: {e}')\n",
    "        \n",
    "links_unique[:5]"
   ]
  },
  {
   "cell_type": "markdown",
   "metadata": {},
   "source": [
    "## Step 4: Use the os library to create a folder called *wikipedia* and make that the current working directory."
   ]
  },
  {
   "cell_type": "code",
   "execution_count": 7,
   "metadata": {},
   "outputs": [],
   "source": [
    "import os"
   ]
  },
  {
   "cell_type": "code",
   "execution_count": 8,
   "metadata": {},
   "outputs": [],
   "source": [
    "os.makedirs(name='wikipedia')"
   ]
  },
  {
   "cell_type": "code",
   "execution_count": 9,
   "metadata": {},
   "outputs": [
    {
     "data": {
      "text/plain": [
       "'/Users/jorgefreire/Library/Mobile Documents/com~apple~CloudDocs/IronHack/S4_Extraccion/4.4-lab-parallelization/your-code/wikipedia'"
      ]
     },
     "execution_count": 9,
     "metadata": {},
     "output_type": "execute_result"
    }
   ],
   "source": [
    "os.chdir('/Users/jorgefreire/Library/Mobile Documents/com~apple~CloudDocs/IronHack/S4_Extraccion/4.4-lab-parallelization/your-code/wikipedia')\n",
    "\n",
    "os.getcwd()"
   ]
  },
  {
   "cell_type": "markdown",
   "metadata": {},
   "source": [
    "## Step 5: Write a function called index_page that accepts a link and does the following.\n",
    "\n",
    "- Tries to request the content of the page referenced by that link.\n",
    "- Slugifies the filename using the `slugify` function from the [python-slugify](https://pypi.org/project/python-slugify/) library and adds a .html file extension.\n",
    "    - If you don't already have the python-slugify library installed, you can pip install it as follows: `$ pip install python-slugify`.\n",
    "    - To import the slugify function, you would do the following: `from slugify import slugify`.\n",
    "    - You can then slugify a link as follows `slugify(link)`.\n",
    "- Creates a file in the wikipedia folder using the slugified filename and writes the contents of the page to the file.\n",
    "- If an exception occurs during the process above, just `pass`."
   ]
  },
  {
   "cell_type": "code",
   "execution_count": 10,
   "metadata": {},
   "outputs": [],
   "source": [
    "#!pip install python-slugify"
   ]
  },
  {
   "cell_type": "code",
   "execution_count": 11,
   "metadata": {},
   "outputs": [],
   "source": [
    "from slugify import slugify\n",
    "\n",
    "unicode=str()"
   ]
  },
  {
   "cell_type": "code",
   "execution_count": 12,
   "metadata": {},
   "outputs": [],
   "source": [
    "def index_page(s):\n",
    "        \n",
    "    try:\n",
    "        \n",
    "        html = req.get(s).text\n",
    "        \n",
    "        url = slugify(s)\n",
    "\n",
    "        file = open(f'{url}.txt', \"w\", encoding='UTF-8')\n",
    "\n",
    "        file.write(f'{html}')\n",
    "\n",
    "        file.close()\n",
    "        \n",
    "    except: pass"
   ]
  },
  {
   "cell_type": "markdown",
   "metadata": {},
   "source": [
    "## Step 6: Sequentially loop through the list of links, running the index_page function each time.\n",
    "\n",
    "Remember to include `%%time` at the beginning of the cell so that it measures the time it takes for the cell to run."
   ]
  },
  {
   "cell_type": "code",
   "execution_count": 13,
   "metadata": {},
   "outputs": [],
   "source": [
    "from tqdm.notebook import tqdm"
   ]
  },
  {
   "cell_type": "code",
   "execution_count": 14,
   "metadata": {},
   "outputs": [
    {
     "data": {
      "application/vnd.jupyter.widget-view+json": {
       "model_id": "e1b0fb2abb08481d9de22f23e6015112",
       "version_major": 2,
       "version_minor": 0
      },
      "text/plain": [
       "  0%|          | 0/245 [00:00<?, ?it/s]"
      ]
     },
     "metadata": {},
     "output_type": "display_data"
    },
    {
     "name": "stdout",
     "output_type": "stream",
     "text": [
      "CPU times: user 28.7 s, sys: 1.79 s, total: 30.4 s\n",
      "Wall time: 5min 5s\n"
     ]
    }
   ],
   "source": [
    "%%time\n",
    "\n",
    "for e in tqdm(links_unique):\n",
    "    \n",
    "    index_page(e)"
   ]
  },
  {
   "cell_type": "markdown",
   "metadata": {},
   "source": [
    "## Step 7: Perform the page indexing in parallel and note the difference in performance.\n",
    "\n",
    "Remember to include `%%time` at the beginning of the cell so that it measures the time it takes for the cell to run."
   ]
  },
  {
   "cell_type": "code",
   "execution_count": 15,
   "metadata": {},
   "outputs": [],
   "source": [
    "import multiprocessing\n",
    "import funcion"
   ]
  },
  {
   "cell_type": "code",
   "execution_count": 16,
   "metadata": {},
   "outputs": [
    {
     "name": "stdout",
     "output_type": "stream",
     "text": [
      "CPU times: user 21.6 ms, sys: 44.5 ms, total: 66.1 ms\n",
      "Wall time: 276 ms\n"
     ]
    }
   ],
   "source": [
    "%%time\n",
    "\n",
    "pool = multiprocessing.Pool(6)\n",
    "\n",
    "res=pool.map(funcion.index_page, links_unique)\n",
    "\n",
    "pool.close()"
   ]
  }
 ],
 "metadata": {
  "kernelspec": {
   "display_name": "Python 3 (ipykernel)",
   "language": "python",
   "name": "python3"
  },
  "language_info": {
   "codemirror_mode": {
    "name": "ipython",
    "version": 3
   },
   "file_extension": ".py",
   "mimetype": "text/x-python",
   "name": "python",
   "nbconvert_exporter": "python",
   "pygments_lexer": "ipython3",
   "version": "3.9.13"
  },
  "toc": {
   "base_numbering": 1,
   "nav_menu": {},
   "number_sections": true,
   "sideBar": true,
   "skip_h1_title": false,
   "title_cell": "Table of Contents",
   "title_sidebar": "Contents",
   "toc_cell": true,
   "toc_position": {},
   "toc_section_display": true,
   "toc_window_display": false
  },
  "varInspector": {
   "cols": {
    "lenName": 16,
    "lenType": 16,
    "lenVar": 40
   },
   "kernels_config": {
    "python": {
     "delete_cmd_postfix": "",
     "delete_cmd_prefix": "del ",
     "library": "var_list.py",
     "varRefreshCmd": "print(var_dic_list())"
    },
    "r": {
     "delete_cmd_postfix": ") ",
     "delete_cmd_prefix": "rm(",
     "library": "var_list.r",
     "varRefreshCmd": "cat(var_dic_list()) "
    }
   },
   "types_to_exclude": [
    "module",
    "function",
    "builtin_function_or_method",
    "instance",
    "_Feature"
   ],
   "window_display": false
  }
 },
 "nbformat": 4,
 "nbformat_minor": 2
}
