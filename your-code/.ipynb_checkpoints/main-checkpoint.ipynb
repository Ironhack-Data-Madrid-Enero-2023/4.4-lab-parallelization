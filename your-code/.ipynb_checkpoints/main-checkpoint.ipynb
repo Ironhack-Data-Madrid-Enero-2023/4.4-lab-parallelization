{
 "cells": [
  {
   "cell_type": "markdown",
   "metadata": {
    "toc": true
   },
   "source": [
    "<h1>Table of Contents<span class=\"tocSkip\"></span></h1>\n",
    "<div class=\"toc\"><ul class=\"toc-item\"><li><span><a href=\"#Parallelization-Lab\" data-toc-modified-id=\"Parallelization-Lab-1\"><span class=\"toc-item-num\">1&nbsp;&nbsp;</span>Parallelization Lab</a></span><ul class=\"toc-item\"><li><span><a href=\"#Step-1:-Use-the-requests-library-to-retrieve-the-content-from-the-URL-below.\" data-toc-modified-id=\"Step-1:-Use-the-requests-library-to-retrieve-the-content-from-the-URL-below.-1.1\"><span class=\"toc-item-num\">1.1&nbsp;&nbsp;</span>Step 1: Use the requests library to retrieve the content from the URL below.</a></span></li><li><span><a href=\"#Step-2:-Use-BeautifulSoup-to-extract-a-list-of-all-the-unique-links-on-the-page.\" data-toc-modified-id=\"Step-2:-Use-BeautifulSoup-to-extract-a-list-of-all-the-unique-links-on-the-page.-1.2\"><span class=\"toc-item-num\">1.2&nbsp;&nbsp;</span>Step 2: Use BeautifulSoup to extract a list of all the unique links on the page.</a></span></li><li><span><a href=\"#Step-3:-Use-list-comprehensions-with-conditions-to-clean-the-link-list.\" data-toc-modified-id=\"Step-3:-Use-list-comprehensions-with-conditions-to-clean-the-link-list.-1.3\"><span class=\"toc-item-num\">1.3&nbsp;&nbsp;</span>Step 3: Use list comprehensions with conditions to clean the link list.</a></span></li><li><span><a href=\"#Step-4:-Use-the-os-library-to-create-a-folder-called-wikipedia-and-make-that-the-current-working-directory.\" data-toc-modified-id=\"Step-4:-Use-the-os-library-to-create-a-folder-called-wikipedia-and-make-that-the-current-working-directory.-1.4\"><span class=\"toc-item-num\">1.4&nbsp;&nbsp;</span>Step 4: Use the os library to create a folder called <em>wikipedia</em> and make that the current working directory.</a></span></li><li><span><a href=\"#Step-5:-Write-a-function-called-index_page-that-accepts-a-link-and-does-the-following.\" data-toc-modified-id=\"Step-5:-Write-a-function-called-index_page-that-accepts-a-link-and-does-the-following.-1.5\"><span class=\"toc-item-num\">1.5&nbsp;&nbsp;</span>Step 5: Write a function called index_page that accepts a link and does the following.</a></span></li><li><span><a href=\"#Step-6:-Sequentially-loop-through-the-list-of-links,-running-the-index_page-function-each-time.\" data-toc-modified-id=\"Step-6:-Sequentially-loop-through-the-list-of-links,-running-the-index_page-function-each-time.-1.6\"><span class=\"toc-item-num\">1.6&nbsp;&nbsp;</span>Step 6: Sequentially loop through the list of links, running the index_page function each time.</a></span></li><li><span><a href=\"#Step-7:-Perform-the-page-indexing-in-parallel-and-note-the-difference-in-performance.\" data-toc-modified-id=\"Step-7:-Perform-the-page-indexing-in-parallel-and-note-the-difference-in-performance.-1.7\"><span class=\"toc-item-num\">1.7&nbsp;&nbsp;</span>Step 7: Perform the page indexing in parallel and note the difference in performance.</a></span></li></ul></li></ul></div>"
   ]
  },
  {
   "cell_type": "markdown",
   "metadata": {},
   "source": [
    "# Parallelization Lab\n",
    "\n",
    "In this lab, you will be leveraging several concepts you have learned to obtain a list of links from a web page and crawl and index the pages referenced by those links - both sequentially and in parallel. Follow the steps below to complete the lab."
   ]
  },
  {
   "cell_type": "markdown",
   "metadata": {},
   "source": [
    "## Step 1: Use the requests library to retrieve the content from the URL below.\n",
    "\n",
    "https://en.wikipedia.org/wiki/Data_science"
   ]
  },
  {
   "cell_type": "code",
   "execution_count": 1,
   "metadata": {},
   "outputs": [],
   "source": [
    "from selenium import webdriver"
   ]
  },
  {
   "cell_type": "code",
   "execution_count": 2,
   "metadata": {},
   "outputs": [],
   "source": [
    "import requests as req\n",
    "\n",
    "url = 'https://en.wikipedia.org/wiki/Data_science'"
   ]
  },
  {
   "cell_type": "code",
   "execution_count": 3,
   "metadata": {},
   "outputs": [],
   "source": [
    "#your code\n",
    "html=req.get(url).content"
   ]
  },
  {
   "cell_type": "markdown",
   "metadata": {},
   "source": [
    "## Step 2: Use BeautifulSoup to extract a list of all the unique links on the page."
   ]
  },
  {
   "cell_type": "code",
   "execution_count": 4,
   "metadata": {},
   "outputs": [],
   "source": [
    "from bs4 import BeautifulSoup as bs \n",
    "import re"
   ]
  },
  {
   "cell_type": "code",
   "execution_count": 5,
   "metadata": {
    "scrolled": true
   },
   "outputs": [],
   "source": [
    "#your code\n",
    "sopa=bs(html, 'html.parser')\n",
    "tabla = sopa.find_all('a')"
   ]
  },
  {
   "cell_type": "code",
   "execution_count": 6,
   "metadata": {},
   "outputs": [
    {
     "data": {
      "text/plain": [
       "['#bodyContent',\n",
       " '/wiki/Main_Page',\n",
       " '/wiki/Special:Search',\n",
       " '/w/index.php?title=Special:CreateAccount&returnto=Data+science',\n",
       " '/w/index.php?title=Special:CreateAccount&returnto=Data+science',\n",
       " '/w/index.php?title=Special:UserLogin&returnto=Data+science',\n",
       " '/wiki/Help:Introduction',\n",
       " '/wiki/Special:MyTalk',\n",
       " '/wiki/Special:MyContributions',\n",
       " '/wiki/Main_Page']"
      ]
     },
     "execution_count": 6,
     "metadata": {},
     "output_type": "execute_result"
    }
   ],
   "source": [
    "links = [e.attrs.get('href','nada') for e in tabla]\n",
    "links[:10]\n"
   ]
  },
  {
   "cell_type": "markdown",
   "metadata": {},
   "source": [
    "## Step 3: Use list comprehensions with conditions to clean the link list.\n",
    "\n",
    "There are two types of links, absolute and relative. Absolute links have the full URL and begin with http while relative links begin with a forward slash (/) and point to an internal page within the wikipedia.org domain. Clean the respective types of URLs as follows.\n",
    "\n",
    "- Absolute Links: Create a list of these and remove any that contain a percentage sign (%).\n",
    "- Relativel Links: Create a list of these, add the domain to the link so that you have the full URL, and remove any that contain a percentage sign (%).\n",
    "- Combine the list of absolute and relative links and ensure there are no duplicates."
   ]
  },
  {
   "cell_type": "code",
   "execution_count": 8,
   "metadata": {},
   "outputs": [],
   "source": [
    "domain = 'http://wikipedia.org'"
   ]
  },
  {
   "cell_type": "code",
   "execution_count": 9,
   "metadata": {},
   "outputs": [],
   "source": [
    "html=req.get(domain).content"
   ]
  },
  {
   "cell_type": "code",
   "execution_count": 10,
   "metadata": {},
   "outputs": [],
   "source": [
    "sopa=bs(html, 'html.parser')\n",
    "tabla = sopa.find_all('a')"
   ]
  },
  {
   "cell_type": "code",
   "execution_count": 11,
   "metadata": {},
   "outputs": [
    {
     "data": {
      "text/plain": [
       "['//en.wikipedia.org/',\n",
       " '//ru.wikipedia.org/',\n",
       " '//ja.wikipedia.org/',\n",
       " '//de.wikipedia.org/',\n",
       " '//fr.wikipedia.org/',\n",
       " '//es.wikipedia.org/',\n",
       " '//it.wikipedia.org/',\n",
       " '//zh.wikipedia.org/',\n",
       " '//fa.wikipedia.org/',\n",
       " '//pl.wikipedia.org/']"
      ]
     },
     "execution_count": 11,
     "metadata": {},
     "output_type": "execute_result"
    }
   ],
   "source": [
    "links = [e.attrs.get('href','nada') for e in tabla]\n",
    "links[:10]\n"
   ]
  },
  {
   "cell_type": "code",
   "execution_count": 12,
   "metadata": {},
   "outputs": [
    {
     "data": {
      "text/plain": [
       "['https://meta.wikimedia.org/wiki/Special:MyLanguage/List_of_Wikipedias',\n",
       " 'https://donate.wikimedia.org/?utm_medium=portal&utm_campaign=portalFooter&utm_source=portalFooter',\n",
       " 'https://en.wikipedia.org/wiki/List_of_Wikipedia_mobile_applications',\n",
       " 'https://itunes.apple.com/app/apple-store/id324715238?pt=208305&ct=portal&mt=8',\n",
       " 'https://creativecommons.org/licenses/by-sa/3.0/']"
      ]
     },
     "execution_count": 12,
     "metadata": {},
     "output_type": "execute_result"
    }
   ],
   "source": [
    "#your code\n",
    "absolute_links = [e for e in links if e.startswith('http') and '%' not in e]\n",
    "absolute_links[:5]"
   ]
  },
  {
   "cell_type": "code",
   "execution_count": 13,
   "metadata": {},
   "outputs": [
    {
     "data": {
      "text/plain": [
       "['//en.wikipedia.org/',\n",
       " '//ru.wikipedia.org/',\n",
       " '//ja.wikipedia.org/',\n",
       " '//de.wikipedia.org/',\n",
       " '//fr.wikipedia.org/']"
      ]
     },
     "execution_count": 13,
     "metadata": {},
     "output_type": "execute_result"
    }
   ],
   "source": [
    "relative_links = [e for e in links if e.startswith('/') and '%' not in e]\n",
    "relative_links[:5]"
   ]
  },
  {
   "cell_type": "code",
   "execution_count": 38,
   "metadata": {},
   "outputs": [
    {
     "data": {
      "text/plain": [
       "['//en.wikipedia.org/',\n",
       " '//ru.wikipedia.org/',\n",
       " '//ja.wikipedia.org/',\n",
       " '//de.wikipedia.org/',\n",
       " '//fr.wikipedia.org/',\n",
       " '//es.wikipedia.org/',\n",
       " '//it.wikipedia.org/',\n",
       " '//zh.wikipedia.org/',\n",
       " '//fa.wikipedia.org/',\n",
       " '//pl.wikipedia.org/',\n",
       " '//pl.wikipedia.org/',\n",
       " '//ar.wikipedia.org/',\n",
       " '//de.wikipedia.org/',\n",
       " '//en.wikipedia.org/',\n",
       " '//es.wikipedia.org/',\n",
       " '//fr.wikipedia.org/',\n",
       " '//it.wikipedia.org/',\n",
       " '//arz.wikipedia.org/',\n",
       " '//nl.wikipedia.org/',\n",
       " '//ja.wikipedia.org/',\n",
       " '//pt.wikipedia.org/',\n",
       " '//ceb.wikipedia.org/',\n",
       " '//sv.wikipedia.org/',\n",
       " '//uk.wikipedia.org/',\n",
       " '//vi.wikipedia.org/',\n",
       " '//war.wikipedia.org/',\n",
       " '//zh.wikipedia.org/',\n",
       " '//ru.wikipedia.org/',\n",
       " '//af.wikipedia.org/',\n",
       " '//ast.wikipedia.org/',\n",
       " '//az.wikipedia.org/',\n",
       " '//bg.wikipedia.org/',\n",
       " '//zh-min-nan.wikipedia.org/',\n",
       " '//bn.wikipedia.org/',\n",
       " '//be.wikipedia.org/',\n",
       " '//ca.wikipedia.org/',\n",
       " '//cs.wikipedia.org/',\n",
       " '//cy.wikipedia.org/',\n",
       " '//da.wikipedia.org/',\n",
       " '//et.wikipedia.org/',\n",
       " '//el.wikipedia.org/',\n",
       " '//eo.wikipedia.org/',\n",
       " '//eu.wikipedia.org/',\n",
       " '//fa.wikipedia.org/',\n",
       " '//gl.wikipedia.org/',\n",
       " '//ko.wikipedia.org/',\n",
       " '//hi.wikipedia.org/',\n",
       " '//hr.wikipedia.org/',\n",
       " '//id.wikipedia.org/',\n",
       " '//he.wikipedia.org/',\n",
       " '//ka.wikipedia.org/',\n",
       " '//la.wikipedia.org/',\n",
       " '//lv.wikipedia.org/',\n",
       " '//lt.wikipedia.org/',\n",
       " '//hu.wikipedia.org/',\n",
       " '//mk.wikipedia.org/',\n",
       " '//ms.wikipedia.org/',\n",
       " '//min.wikipedia.org/',\n",
       " '//no.wikipedia.org/',\n",
       " '//nn.wikipedia.org/',\n",
       " '//ce.wikipedia.org/',\n",
       " '//uz.wikipedia.org/',\n",
       " '//kk.wikipedia.org/',\n",
       " '//ro.wikipedia.org/',\n",
       " '//simple.wikipedia.org/',\n",
       " '//sk.wikipedia.org/',\n",
       " '//sl.wikipedia.org/',\n",
       " '//sr.wikipedia.org/',\n",
       " '//sh.wikipedia.org/',\n",
       " '//fi.wikipedia.org/',\n",
       " '//ta.wikipedia.org/',\n",
       " '//tt.wikipedia.org/',\n",
       " '//th.wikipedia.org/',\n",
       " '//tg.wikipedia.org/',\n",
       " '//azb.wikipedia.org/',\n",
       " '//tr.wikipedia.org/',\n",
       " '//ur.wikipedia.org/',\n",
       " '//zh-yue.wikipedia.org/',\n",
       " '//hy.wikipedia.org/',\n",
       " '//my.wikipedia.org/',\n",
       " '//ace.wikipedia.org/',\n",
       " '//als.wikipedia.org/',\n",
       " '//am.wikipedia.org/',\n",
       " '//an.wikipedia.org/',\n",
       " '//hyw.wikipedia.org/',\n",
       " '//ban.wikipedia.org/',\n",
       " '//bjn.wikipedia.org/',\n",
       " '//map-bms.wikipedia.org/',\n",
       " '//ba.wikipedia.org/',\n",
       " '//be-tarask.wikipedia.org/',\n",
       " '//bcl.wikipedia.org/',\n",
       " '//bpy.wikipedia.org/',\n",
       " '//bar.wikipedia.org/',\n",
       " '//bs.wikipedia.org/',\n",
       " '//br.wikipedia.org/',\n",
       " '//cv.wikipedia.org/',\n",
       " '//nv.wikipedia.org/',\n",
       " '//eml.wikipedia.org/',\n",
       " '//hif.wikipedia.org/',\n",
       " '//fo.wikipedia.org/',\n",
       " '//fy.wikipedia.org/',\n",
       " '//ga.wikipedia.org/',\n",
       " '//gd.wikipedia.org/',\n",
       " '//gu.wikipedia.org/',\n",
       " '//hak.wikipedia.org/',\n",
       " '//ha.wikipedia.org/',\n",
       " '//hsb.wikipedia.org/',\n",
       " '//io.wikipedia.org/',\n",
       " '//ig.wikipedia.org/',\n",
       " '//ilo.wikipedia.org/',\n",
       " '//ia.wikipedia.org/',\n",
       " '//ie.wikipedia.org/',\n",
       " '//os.wikipedia.org/',\n",
       " '//is.wikipedia.org/',\n",
       " '//jv.wikipedia.org/',\n",
       " '//kn.wikipedia.org/',\n",
       " '//ht.wikipedia.org/',\n",
       " '//ku.wikipedia.org/',\n",
       " '//ckb.wikipedia.org/',\n",
       " '//ky.wikipedia.org/',\n",
       " '//mrj.wikipedia.org/',\n",
       " '//lb.wikipedia.org/',\n",
       " '//lij.wikipedia.org/',\n",
       " '//li.wikipedia.org/',\n",
       " '//lmo.wikipedia.org/',\n",
       " '//mai.wikipedia.org/',\n",
       " '//mg.wikipedia.org/',\n",
       " '//ml.wikipedia.org/',\n",
       " '//zh-classical.wikipedia.org/',\n",
       " '//mr.wikipedia.org/',\n",
       " '//xmf.wikipedia.org/',\n",
       " '//mzn.wikipedia.org/',\n",
       " '//cdo.wikipedia.org/',\n",
       " '//mn.wikipedia.org/',\n",
       " '//nap.wikipedia.org/',\n",
       " '//new.wikipedia.org/',\n",
       " '//ne.wikipedia.org/',\n",
       " '//frr.wikipedia.org/',\n",
       " '//oc.wikipedia.org/',\n",
       " '//mhr.wikipedia.org/',\n",
       " '//or.wikipedia.org/',\n",
       " '//as.wikipedia.org/',\n",
       " '//pa.wikipedia.org/',\n",
       " '//pnb.wikipedia.org/',\n",
       " '//ps.wikipedia.org/',\n",
       " '//pms.wikipedia.org/',\n",
       " '//nds.wikipedia.org/',\n",
       " '//crh.wikipedia.org/',\n",
       " '//qu.wikipedia.org/',\n",
       " '//sa.wikipedia.org/',\n",
       " '//sah.wikipedia.org/',\n",
       " '//sco.wikipedia.org/',\n",
       " '//sn.wikipedia.org/',\n",
       " '//sq.wikipedia.org/',\n",
       " '//scn.wikipedia.org/',\n",
       " '//si.wikipedia.org/',\n",
       " '//sd.wikipedia.org/',\n",
       " '//szl.wikipedia.org/',\n",
       " '//su.wikipedia.org/',\n",
       " '//sw.wikipedia.org/',\n",
       " '//tl.wikipedia.org/',\n",
       " '//shn.wikipedia.org/',\n",
       " '//te.wikipedia.org/',\n",
       " '//bug.wikipedia.org/',\n",
       " '//vec.wikipedia.org/',\n",
       " '//vo.wikipedia.org/',\n",
       " '//wa.wikipedia.org/',\n",
       " '//wuu.wikipedia.org/',\n",
       " '//yi.wikipedia.org/',\n",
       " '//yo.wikipedia.org/',\n",
       " '//diq.wikipedia.org/',\n",
       " '//bat-smg.wikipedia.org/',\n",
       " '//zu.wikipedia.org/',\n",
       " '//lad.wikipedia.org/',\n",
       " '//kbd.wikipedia.org/',\n",
       " '//ang.wikipedia.org/',\n",
       " '//smn.wikipedia.org/',\n",
       " '//ab.wikipedia.org/',\n",
       " '//roa-rup.wikipedia.org/',\n",
       " '//frp.wikipedia.org/',\n",
       " '//arc.wikipedia.org/',\n",
       " '//gn.wikipedia.org/',\n",
       " '//av.wikipedia.org/',\n",
       " '//ay.wikipedia.org/',\n",
       " '//bh.wikipedia.org/',\n",
       " '//bi.wikipedia.org/',\n",
       " '//bo.wikipedia.org/',\n",
       " '//bxr.wikipedia.org/',\n",
       " '//cbk-zam.wikipedia.org/',\n",
       " '//co.wikipedia.org/',\n",
       " '//za.wikipedia.org/',\n",
       " '//dag.wikipedia.org/',\n",
       " '//ary.wikipedia.org/',\n",
       " '//se.wikipedia.org/',\n",
       " '//pdc.wikipedia.org/',\n",
       " '//dv.wikipedia.org/',\n",
       " '//dsb.wikipedia.org/',\n",
       " '//myv.wikipedia.org/',\n",
       " '//ext.wikipedia.org/',\n",
       " '//fur.wikipedia.org/',\n",
       " '//gv.wikipedia.org/',\n",
       " '//gag.wikipedia.org/',\n",
       " '//inh.wikipedia.org/',\n",
       " '//ki.wikipedia.org/',\n",
       " '//glk.wikipedia.org/',\n",
       " '//gan.wikipedia.org/',\n",
       " '//guw.wikipedia.org/',\n",
       " '//xal.wikipedia.org/',\n",
       " '//haw.wikipedia.org/',\n",
       " '//rw.wikipedia.org/',\n",
       " '//kbp.wikipedia.org/',\n",
       " '//pam.wikipedia.org/',\n",
       " '//csb.wikipedia.org/',\n",
       " '//kw.wikipedia.org/',\n",
       " '//km.wikipedia.org/',\n",
       " '//kv.wikipedia.org/',\n",
       " '//koi.wikipedia.org/',\n",
       " '//kg.wikipedia.org/',\n",
       " '//gom.wikipedia.org/',\n",
       " '//ks.wikipedia.org/',\n",
       " '//gcr.wikipedia.org/',\n",
       " '//lo.wikipedia.org/',\n",
       " '//lbe.wikipedia.org/',\n",
       " '//ltg.wikipedia.org/',\n",
       " '//lez.wikipedia.org/',\n",
       " '//nia.wikipedia.org/',\n",
       " '//ln.wikipedia.org/',\n",
       " '//jbo.wikipedia.org/',\n",
       " '//lg.wikipedia.org/',\n",
       " '//mt.wikipedia.org/',\n",
       " '//mi.wikipedia.org/',\n",
       " '//tw.wikipedia.org/',\n",
       " '//mwl.wikipedia.org/',\n",
       " '//mdf.wikipedia.org/',\n",
       " '//mnw.wikipedia.org/',\n",
       " '//nqo.wikipedia.org/',\n",
       " '//fj.wikipedia.org/',\n",
       " '//nah.wikipedia.org/',\n",
       " '//na.wikipedia.org/',\n",
       " '//nds-nl.wikipedia.org/',\n",
       " '//nrm.wikipedia.org/',\n",
       " '//nov.wikipedia.org/',\n",
       " '//om.wikipedia.org/',\n",
       " '//blk.wikipedia.org/',\n",
       " '//pi.wikipedia.org/',\n",
       " '//pag.wikipedia.org/',\n",
       " '//pap.wikipedia.org/',\n",
       " '//pfl.wikipedia.org/',\n",
       " '//pcd.wikipedia.org/',\n",
       " '//krc.wikipedia.org/',\n",
       " '//kaa.wikipedia.org/',\n",
       " '//ksh.wikipedia.org/',\n",
       " '//rm.wikipedia.org/',\n",
       " '//rue.wikipedia.org/',\n",
       " '//sm.wikipedia.org/',\n",
       " '//sat.wikipedia.org/',\n",
       " '//sc.wikipedia.org/',\n",
       " '//trv.wikipedia.org/',\n",
       " '//stq.wikipedia.org/',\n",
       " '//nso.wikipedia.org/',\n",
       " '//tn.wikipedia.org/',\n",
       " '//cu.wikipedia.org/',\n",
       " '//so.wikipedia.org/',\n",
       " '//srn.wikipedia.org/',\n",
       " '//kab.wikipedia.org/',\n",
       " '//roa-tara.wikipedia.org/',\n",
       " '//tet.wikipedia.org/',\n",
       " '//tpi.wikipedia.org/',\n",
       " '//to.wikipedia.org/',\n",
       " '//chr.wikipedia.org/',\n",
       " '//tum.wikipedia.org/',\n",
       " '//tk.wikipedia.org/',\n",
       " '//tyv.wikipedia.org/',\n",
       " '//udm.wikipedia.org/',\n",
       " '//ug.wikipedia.org/',\n",
       " '//vep.wikipedia.org/',\n",
       " '//fiu-vro.wikipedia.org/',\n",
       " '//vls.wikipedia.org/',\n",
       " '//wo.wikipedia.org/',\n",
       " '//xh.wikipedia.org/',\n",
       " '//zea.wikipedia.org/',\n",
       " '//ty.wikipedia.org/',\n",
       " '//ak.wikipedia.org/',\n",
       " '//bm.wikipedia.org/',\n",
       " '//ch.wikipedia.org/',\n",
       " '//ny.wikipedia.org/',\n",
       " '//ee.wikipedia.org/',\n",
       " '//ff.wikipedia.org/',\n",
       " '//got.wikipedia.org/',\n",
       " '//iu.wikipedia.org/',\n",
       " '//ik.wikipedia.org/',\n",
       " '//kl.wikipedia.org/',\n",
       " '//mad.wikipedia.org/',\n",
       " '//cr.wikipedia.org/',\n",
       " '//pih.wikipedia.org/',\n",
       " '//ami.wikipedia.org/',\n",
       " '//pwn.wikipedia.org/',\n",
       " '//pnt.wikipedia.org/',\n",
       " '//dz.wikipedia.org/',\n",
       " '//rmy.wikipedia.org/',\n",
       " '//rn.wikipedia.org/',\n",
       " '//sg.wikipedia.org/',\n",
       " '//st.wikipedia.org/',\n",
       " '//ss.wikipedia.org/',\n",
       " '//ti.wikipedia.org/',\n",
       " '//din.wikipedia.org/',\n",
       " '//chy.wikipedia.org/',\n",
       " '//ts.wikipedia.org/',\n",
       " '//kcg.wikipedia.org/',\n",
       " '//ve.wikipedia.org/',\n",
       " '//commons.wikimedia.org/',\n",
       " '//www.wikivoyage.org/',\n",
       " '//www.wiktionary.org/',\n",
       " '//www.wikibooks.org/',\n",
       " '//www.wikinews.org/',\n",
       " '//www.wikidata.org/',\n",
       " '//www.wikiversity.org/',\n",
       " '//www.wikiquote.org/',\n",
       " '//www.mediawiki.org/',\n",
       " '//www.wikisource.org/',\n",
       " '//species.wikimedia.org/',\n",
       " '//meta.wikimedia.org/',\n",
       " 'https://meta.wikimedia.org/wiki/Special:MyLanguage/List_of_Wikipedias',\n",
       " 'https://donate.wikimedia.org/?utm_medium=portal&utm_campaign=portalFooter&utm_source=portalFooter',\n",
       " 'https://en.wikipedia.org/wiki/List_of_Wikipedia_mobile_applications']"
      ]
     },
     "execution_count": 38,
     "metadata": {},
     "output_type": "execute_result"
    }
   ],
   "source": [
    "total_links = list(relative_links + absolute_links )\n",
    "total_links[:-4]"
   ]
  },
  {
   "cell_type": "markdown",
   "metadata": {},
   "source": [
    "## Step 4: Use the os library to create a folder called *wikipedia* and make that the current working directory."
   ]
  },
  {
   "cell_type": "code",
   "execution_count": 15,
   "metadata": {},
   "outputs": [],
   "source": [
    "import os"
   ]
  },
  {
   "cell_type": "code",
   "execution_count": 16,
   "metadata": {},
   "outputs": [],
   "source": [
    "#your code\n",
    "os.makedirs(\"wikipedia\")"
   ]
  },
  {
   "cell_type": "code",
   "execution_count": 17,
   "metadata": {},
   "outputs": [],
   "source": [
    "os.chdir('wikipedia')"
   ]
  },
  {
   "cell_type": "markdown",
   "metadata": {},
   "source": [
    "## Step 5: Write a function called index_page that accepts a link and does the following.\n",
    "\n",
    "- Tries to request the content of the page referenced by that link.\n",
    "- Slugifies the filename using the `slugify` function from the [python-slugify](https://pypi.org/project/python-slugify/) library and adds a .html file extension.\n",
    "    - If you don't already have the python-slugify library installed, you can pip install it as follows: `$ pip install python-slugify`.\n",
    "    - To import the slugify function, you would do the following: `from slugify import slugify`.\n",
    "    - You can then slugify a link as follows `slugify(link)`.\n",
    "- Creates a file in the wikipedia folder using the slugified filename and writes the contents of the page to the file.\n",
    "- If an exception occurs during the process above, just `pass`."
   ]
  },
  {
   "cell_type": "code",
   "execution_count": 46,
   "metadata": {
    "scrolled": true
   },
   "outputs": [
    {
     "name": "stdout",
     "output_type": "stream",
     "text": [
      "Requirement already satisfied: python-slugify in c:\\users\\carolina\\anaconda3\\lib\\site-packages (5.0.2)Note: you may need to restart the kernel to use updated packages.\n",
      "\n",
      "Requirement already satisfied: text-unidecode>=1.3 in c:\\users\\carolina\\anaconda3\\lib\\site-packages (from python-slugify) (1.3)\n"
     ]
    }
   ],
   "source": [
    "%pip install python-slugify"
   ]
  },
  {
   "cell_type": "code",
   "execution_count": 18,
   "metadata": {},
   "outputs": [],
   "source": [
    "from slugify import slugify"
   ]
  },
  {
   "cell_type": "code",
   "execution_count": 40,
   "metadata": {},
   "outputs": [],
   "source": [
    "def index_page(link):\n",
    "    try:\n",
    "        html = requests.get(link).text\n",
    "        nombre_arc = slugify(link) +'.html'\n",
    "        file = open(nombre_arc, 'w')\n",
    "        file.write(html)\n",
    "        file.close()\n",
    "        print(link)\n",
    "    except:\n",
    "        pass\n"
   ]
  },
  {
   "cell_type": "code",
   "execution_count": 41,
   "metadata": {},
   "outputs": [],
   "source": [
    "index_page('https://en.wikipedia.org/wiki/Data_science')"
   ]
  },
  {
   "cell_type": "code",
   "execution_count": null,
   "metadata": {},
   "outputs": [],
   "source": []
  },
  {
   "cell_type": "markdown",
   "metadata": {},
   "source": [
    "## Step 6: Sequentially loop through the list of links, running the index_page function each time.\n",
    "\n",
    "Remember to include `%%time` at the beginning of the cell so that it measures the time it takes for the cell to run."
   ]
  },
  {
   "cell_type": "code",
   "execution_count": 42,
   "metadata": {},
   "outputs": [
    {
     "name": "stdout",
     "output_type": "stream",
     "text": [
      "Wall time: 0 ns\n"
     ]
    }
   ],
   "source": [
    "%%time\n",
    "#your code\n",
    "for e in total_links:\n",
    "    index_page(total_links)"
   ]
  },
  {
   "cell_type": "code",
   "execution_count": 43,
   "metadata": {},
   "outputs": [
    {
     "data": {
      "text/plain": [
       "['//en.wikipedia.org/',\n",
       " '//ru.wikipedia.org/',\n",
       " '//ja.wikipedia.org/',\n",
       " '//de.wikipedia.org/',\n",
       " '//fr.wikipedia.org/']"
      ]
     },
     "execution_count": 43,
     "metadata": {},
     "output_type": "execute_result"
    }
   ],
   "source": [
    "total_links[:5]"
   ]
  },
  {
   "cell_type": "markdown",
   "metadata": {},
   "source": [
    "## Step 7: Perform the page indexing in parallel and note the difference in performance.\n",
    "\n",
    "Remember to include `%%time` at the beginning of the cell so that it measures the time it takes for the cell to run."
   ]
  },
  {
   "cell_type": "code",
   "execution_count": 46,
   "metadata": {},
   "outputs": [],
   "source": [
    "import multiprocessing as map\n",
    "pool = mp.Pool(mp.cpu_count())"
   ]
  },
  {
   "cell_type": "code",
   "execution_count": null,
   "metadata": {},
   "outputs": [],
   "source": [
    "%%time \n",
    "#your code\n",
    "pool.map(index_page,total_links)\n",
    "\n",
    "\n"
   ]
  },
  {
   "cell_type": "code",
   "execution_count": 61,
   "metadata": {},
   "outputs": [
    {
     "data": {
      "text/plain": [
       "4"
      ]
     },
     "execution_count": 61,
     "metadata": {},
     "output_type": "execute_result"
    }
   ],
   "source": [
    "mp.cpu_count()   # nº de nucleos"
   ]
  }
 ],
 "metadata": {
  "kernelspec": {
   "display_name": "Python 3 (ipykernel)",
   "language": "python",
   "name": "python3"
  },
  "language_info": {
   "codemirror_mode": {
    "name": "ipython",
    "version": 3
   },
   "file_extension": ".py",
   "mimetype": "text/x-python",
   "name": "python",
   "nbconvert_exporter": "python",
   "pygments_lexer": "ipython3",
   "version": "3.9.13"
  },
  "toc": {
   "base_numbering": 1,
   "nav_menu": {},
   "number_sections": true,
   "sideBar": true,
   "skip_h1_title": false,
   "title_cell": "Table of Contents",
   "title_sidebar": "Contents",
   "toc_cell": true,
   "toc_position": {},
   "toc_section_display": true,
   "toc_window_display": false
  },
  "varInspector": {
   "cols": {
    "lenName": 16,
    "lenType": 16,
    "lenVar": 40
   },
   "kernels_config": {
    "python": {
     "delete_cmd_postfix": "",
     "delete_cmd_prefix": "del ",
     "library": "var_list.py",
     "varRefreshCmd": "print(var_dic_list())"
    },
    "r": {
     "delete_cmd_postfix": ") ",
     "delete_cmd_prefix": "rm(",
     "library": "var_list.r",
     "varRefreshCmd": "cat(var_dic_list()) "
    }
   },
   "types_to_exclude": [
    "module",
    "function",
    "builtin_function_or_method",
    "instance",
    "_Feature"
   ],
   "window_display": false
  }
 },
 "nbformat": 4,
 "nbformat_minor": 2
}
