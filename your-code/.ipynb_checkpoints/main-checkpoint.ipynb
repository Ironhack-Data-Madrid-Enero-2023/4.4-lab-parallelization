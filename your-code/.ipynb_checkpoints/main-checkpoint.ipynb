{
 "cells": [
  {
   "cell_type": "markdown",
   "metadata": {
    "toc": true
   },
   "source": [
    "<h1>Table of Contents<span class=\"tocSkip\"></span></h1>\n",
    "<div class=\"toc\"><ul class=\"toc-item\"><li><span><a href=\"#Parallelization-Lab\" data-toc-modified-id=\"Parallelization-Lab-1\"><span class=\"toc-item-num\">1&nbsp;&nbsp;</span>Parallelization Lab</a></span><ul class=\"toc-item\"><li><span><a href=\"#Step-1:-Use-the-requests-library-to-retrieve-the-content-from-the-URL-below.\" data-toc-modified-id=\"Step-1:-Use-the-requests-library-to-retrieve-the-content-from-the-URL-below.-1.1\"><span class=\"toc-item-num\">1.1&nbsp;&nbsp;</span>Step 1: Use the requests library to retrieve the content from the URL below.</a></span></li><li><span><a href=\"#Step-2:-Use-BeautifulSoup-to-extract-a-list-of-all-the-unique-links-on-the-page.\" data-toc-modified-id=\"Step-2:-Use-BeautifulSoup-to-extract-a-list-of-all-the-unique-links-on-the-page.-1.2\"><span class=\"toc-item-num\">1.2&nbsp;&nbsp;</span>Step 2: Use BeautifulSoup to extract a list of all the unique links on the page.</a></span></li><li><span><a href=\"#Step-3:-Use-list-comprehensions-with-conditions-to-clean-the-link-list.\" data-toc-modified-id=\"Step-3:-Use-list-comprehensions-with-conditions-to-clean-the-link-list.-1.3\"><span class=\"toc-item-num\">1.3&nbsp;&nbsp;</span>Step 3: Use list comprehensions with conditions to clean the link list.</a></span></li><li><span><a href=\"#Step-4:-Use-the-os-library-to-create-a-folder-called-wikipedia-and-make-that-the-current-working-directory.\" data-toc-modified-id=\"Step-4:-Use-the-os-library-to-create-a-folder-called-wikipedia-and-make-that-the-current-working-directory.-1.4\"><span class=\"toc-item-num\">1.4&nbsp;&nbsp;</span>Step 4: Use the os library to create a folder called <em>wikipedia</em> and make that the current working directory.</a></span></li><li><span><a href=\"#Step-5:-Write-a-function-called-index_page-that-accepts-a-link-and-does-the-following.\" data-toc-modified-id=\"Step-5:-Write-a-function-called-index_page-that-accepts-a-link-and-does-the-following.-1.5\"><span class=\"toc-item-num\">1.5&nbsp;&nbsp;</span>Step 5: Write a function called index_page that accepts a link and does the following.</a></span></li><li><span><a href=\"#Step-6:-Sequentially-loop-through-the-list-of-links,-running-the-index_page-function-each-time.\" data-toc-modified-id=\"Step-6:-Sequentially-loop-through-the-list-of-links,-running-the-index_page-function-each-time.-1.6\"><span class=\"toc-item-num\">1.6&nbsp;&nbsp;</span>Step 6: Sequentially loop through the list of links, running the index_page function each time.</a></span></li><li><span><a href=\"#Step-7:-Perform-the-page-indexing-in-parallel-and-note-the-difference-in-performance.\" data-toc-modified-id=\"Step-7:-Perform-the-page-indexing-in-parallel-and-note-the-difference-in-performance.-1.7\"><span class=\"toc-item-num\">1.7&nbsp;&nbsp;</span>Step 7: Perform the page indexing in parallel and note the difference in performance.</a></span></li></ul></li></ul></div>"
   ]
  },
  {
   "cell_type": "markdown",
   "metadata": {},
   "source": [
    "# Parallelization Lab\n",
    "\n",
    "In this lab, you will be leveraging several concepts you have learned to obtain a list of links from a web page and crawl and index the pages referenced by those links - both sequentially and in parallel. Follow the steps below to complete the lab."
   ]
  },
  {
   "cell_type": "markdown",
   "metadata": {},
   "source": [
    "## Step 1: Use the requests library to retrieve the content from the URL below.\n",
    "\n",
    "https://en.wikipedia.org/wiki/Data_science"
   ]
  },
  {
   "cell_type": "code",
   "execution_count": 1,
   "metadata": {},
   "outputs": [],
   "source": [
    "import requests as req\n",
    "from bs4 import BeautifulSoup as bs\n",
    "import pandas as pd"
   ]
  },
  {
   "cell_type": "code",
   "execution_count": 2,
   "metadata": {},
   "outputs": [],
   "source": [
    "url = 'https://en.wikipedia.org/wiki/Data_science'\n",
    "html = req.get(url).text\n",
    "sopa = bs(html, 'html.parser')\n"
   ]
  },
  {
   "cell_type": "code",
   "execution_count": 3,
   "metadata": {},
   "outputs": [],
   "source": [
    "#your code"
   ]
  },
  {
   "cell_type": "markdown",
   "metadata": {},
   "source": [
    "## Step 2: Use BeautifulSoup to extract a list of all the unique links on the page."
   ]
  },
  {
   "cell_type": "code",
   "execution_count": 4,
   "metadata": {},
   "outputs": [],
   "source": [
    "from bs4 import BeautifulSoup\n",
    "import re"
   ]
  },
  {
   "cell_type": "code",
   "execution_count": 5,
   "metadata": {
    "scrolled": true
   },
   "outputs": [],
   "source": [
    "#your code"
   ]
  },
  {
   "cell_type": "code",
   "execution_count": 6,
   "metadata": {},
   "outputs": [],
   "source": [
    "links= sopa.find_all('a')\n",
    "\n",
    "link_list = [link.get(\"href\") for link in links if link.get(\"href\") is not None]\n",
    "\n",
    "unique_links = list(set(link_list))\n",
    "\n",
    "abs_links = [link for link in link_list if link.startswith(\"http\") and \"%\" not in link]\n",
    "\n",
    "rel_links = [link for link in link_list if link.startswith(\"/\") and \"%\" not in link]\n",
    "\n",
    "all_links = list(set(abs_links + rel_links))"
   ]
  },
  {
   "cell_type": "markdown",
   "metadata": {},
   "source": [
    "## Step 3: Use list comprehensions with conditions to clean the link list.\n",
    "\n",
    "There are two types of links, absolute and relative. Absolute links have the full URL and begin with http while relative links begin with a forward slash (/) and point to an internal page within the wikipedia.org domain. Clean the respective types of URLs as follows.\n",
    "\n",
    "- Absolute Links: Create a list of these and remove any that contain a percentage sign (%).\n",
    "- Relativel Links: Create a list of these, add the domain to the link so that you have the full URL, and remove any that contain a percentage sign (%).\n",
    "- Combine the list of absolute and relative links and ensure there are no duplicates."
   ]
  },
  {
   "cell_type": "code",
   "execution_count": 7,
   "metadata": {},
   "outputs": [
    {
     "data": {
      "text/plain": [
       "['https://donate.wikimedia.org/wiki/Special:FundraiserRedirector?utm_source=donate&utm_medium=sidebar&utm_campaign=C13_en.wikipedia.org&uselang=en',\n",
       " 'https://www.wikidata.org/wiki/Special:EntityPage/Q2374463',\n",
       " 'https://commons.wikimedia.org/wiki/Category:Data_science',\n",
       " 'https://en.wikiversity.org/wiki/Data_science',\n",
       " 'https://cs.wikipedia.org/wiki/Data_science',\n",
       " 'https://de.wikipedia.org/wiki/Data_Science',\n",
       " 'https://et.wikipedia.org/wiki/Andmeteadus',\n",
       " 'https://es.wikipedia.org/wiki/Ciencia_de_datos',\n",
       " 'https://eo.wikipedia.org/wiki/Datuma_scienco',\n",
       " 'https://eu.wikipedia.org/wiki/Datu_zientzia',\n",
       " 'https://id.wikipedia.org/wiki/Ilmu_data',\n",
       " 'https://it.wikipedia.org/wiki/Scienza_dei_dati',\n",
       " 'https://ms.wikipedia.org/wiki/Sains_data',\n",
       " 'https://nl.wikipedia.org/wiki/Datawetenschap',\n",
       " 'https://no.wikipedia.org/wiki/Datavitenskap',\n",
       " 'https://pl.wikipedia.org/wiki/Danologia',\n",
       " 'https://simple.wikipedia.org/wiki/Data_science',\n",
       " 'https://fi.wikipedia.org/wiki/Datatiede',\n",
       " 'https://tr.wikipedia.org/wiki/Veri_bilimi',\n",
       " 'https://www.wikidata.org/wiki/Special:EntityPage/Q2374463#sitelinks-wikipedia',\n",
       " 'https://api.semanticscholar.org/CorpusID:114558008',\n",
       " 'http://cacm.acm.org/magazines/2013/12/169933-data-science-and-prediction/fulltext',\n",
       " 'https://api.semanticscholar.org/CorpusID:6107147',\n",
       " 'https://web.archive.org/web/20141109113411/http://cacm.acm.org/magazines/2013/12/169933-data-science-and-prediction/fulltext',\n",
       " 'https://dstf.acm.org/DSTF_Final_Report.pdf',\n",
       " 'https://cacm.acm.org/blogs/blog-cacm/267286-why-is-it-hard-to-define-data-science/fulltext',\n",
       " 'https://www.springer.com/book/9784431702085',\n",
       " 'https://api.semanticscholar.org/CorpusID:207595944',\n",
       " 'https://books.google.com/books?id=oGs_AQAAIAAJ',\n",
       " 'https://web.archive.org/web/20170320193019/https://books.google.com/books?id=oGs_AQAAIAAJ',\n",
       " 'https://api.semanticscholar.org/CorpusID:9743327',\n",
       " 'https://hbr.org/2012/10/data-scientist-the-sexiest-job-of-the-21st-century/',\n",
       " 'https://web.archive.org/web/20200810114002/http://www.datascienceassn.org/about-data-science',\n",
       " 'http://www.datascienceassn.org/about-data-science',\n",
       " 'https://www.oreilly.com/library/view/doing-data-science/9781449363871/ch01.html',\n",
       " 'https://medriscoll.com/post/4740157098/the-three-sexy-skills-of-data-geeks',\n",
       " 'https://flowingdata.com/2009/06/04/rise-of-the-data-scientist/',\n",
       " 'https://benfry.com/phd/dissertation/2.html',\n",
       " 'https://magazine.amstat.org/blog/2015/10/01/asa-statement-on-the-role-of-statistics-in-data-science/',\n",
       " 'https://web.archive.org/web/20190620184935/https://magazine.amstat.org/blog/2015/10/01/asa-statement-on-the-role-of-statistics-in-data-science/',\n",
       " 'https://www.statisticsviews.com/article/nate-silver-what-i-need-from-statisticians/',\n",
       " 'http://priceonomics.com/whats-the-difference-between-data-science-and/',\n",
       " 'http://archive.nyu.edu/handle/2451/31553',\n",
       " 'https://api.semanticscholar.org/CorpusID:6107147',\n",
       " 'https://statmodeling.stat.columbia.edu/2013/11/14/statistics-least-important-part-data-science/',\n",
       " 'http://courses.csail.mit.edu/18.337/2015/docs/50YearsDataScience.pdf',\n",
       " 'https://www2.isye.gatech.edu/~jeffwu/publications/fazhan.pdf',\n",
       " 'http://www2.isye.gatech.edu/~jeffwu/presentations/datascience.pdf',\n",
       " 'https://www.forbes.com/sites/gilpress/2013/05/28/a-very-short-history-of-data-science/',\n",
       " 'https://hbr.org/2012/10/data-scientist-the-sexiest-job-of-the-21st-century',\n",
       " 'https://www.nytimes.com/2013/04/14/education/edlife/universities-offer-courses-in-a-hot-new-field-data-science.html',\n",
       " 'https://www.bostonglobe.com/business/2015/11/11/behind-scenes-sexiest-job-century/Kc1cvXIu31DfHhVmyRQeIJ/story.html',\n",
       " 'https://hbr.org/2022/07/is-data-scientist-still-the-sexiest-job-of-the-21st-century',\n",
       " 'https://www.stat.purdue.edu/~wsc/',\n",
       " 'https://magazine.amstat.org/blog/2016/06/01/datascience-2/',\n",
       " 'https://hbr.org/2012/10/data-scientist-the-sexiest-job-of-the-21st-century',\n",
       " 'https://www.nsf.gov/pubs/2005/nsb0540/',\n",
       " 'https://www.forbes.com/sites/gilpress/2013/08/19/data-science-whats-the-half-life-of-a-buzzword/',\n",
       " 'https://www.forbes.com/sites/peterpham/2015/08/28/the-impacts-of-big-data-that-you-may-not-have-heard-of/',\n",
       " 'https://towardsdatascience.com/how-data-science-will-impact-future-of-businesses-7f11f5699c4d',\n",
       " 'https://en.wikipedia.org/w/index.php?title=Template:Data&action=edit',\n",
       " 'https://en.wikipedia.org/w/index.php?title=Data_science&oldid=1138351123',\n",
       " 'https://foundation.wikimedia.org/wiki/Privacy_policy',\n",
       " 'https://developer.wikimedia.org',\n",
       " 'https://stats.wikimedia.org/#/en.wikipedia.org',\n",
       " 'https://foundation.wikimedia.org/wiki/Cookie_statement',\n",
       " 'https://wikimediafoundation.org/',\n",
       " 'https://www.mediawiki.org/']"
      ]
     },
     "execution_count": 7,
     "metadata": {},
     "output_type": "execute_result"
    }
   ],
   "source": [
    "abs_links #absolute links"
   ]
  },
  {
   "cell_type": "code",
   "execution_count": 8,
   "metadata": {},
   "outputs": [
    {
     "data": {
      "text/plain": [
       "['/wiki/Main_Page',\n",
       " '/wiki/Special:Search',\n",
       " '/w/index.php?title=Special:CreateAccount&returnto=Data+science',\n",
       " '/w/index.php?title=Special:CreateAccount&returnto=Data+science',\n",
       " '/w/index.php?title=Special:UserLogin&returnto=Data+science',\n",
       " '/wiki/Help:Introduction',\n",
       " '/wiki/Special:MyTalk',\n",
       " '/wiki/Special:MyContributions',\n",
       " '/wiki/Main_Page',\n",
       " '/wiki/Wikipedia:Contents',\n",
       " '/wiki/Portal:Current_events',\n",
       " '/wiki/Special:Random',\n",
       " '/wiki/Wikipedia:About',\n",
       " '//en.wikipedia.org/wiki/Wikipedia:Contact_us',\n",
       " '/wiki/Help:Contents',\n",
       " '/wiki/Help:Introduction',\n",
       " '/wiki/Wikipedia:Community_portal',\n",
       " '/wiki/Special:RecentChanges',\n",
       " '/wiki/Wikipedia:File_upload_wizard',\n",
       " '/wiki/Special:WhatLinksHere/Data_science',\n",
       " '/wiki/Special:RecentChangesLinked/Data_science',\n",
       " '/wiki/Wikipedia:File_Upload_Wizard',\n",
       " '/wiki/Special:SpecialPages',\n",
       " '/w/index.php?title=Data_science&oldid=1138351123',\n",
       " '/w/index.php?title=Data_science&action=info',\n",
       " '/w/index.php?title=Special:CiteThisPage&page=Data_science&id=1138351123&wpFormIdentifier=titleform',\n",
       " '/w/index.php?title=Special:DownloadAsPdf&page=Data_science&action=show-download-screen',\n",
       " '/w/index.php?title=Data_science&printable=yes',\n",
       " '/wiki/Data_science',\n",
       " '/wiki/Talk:Data_science',\n",
       " '/wiki/Data_science',\n",
       " '/w/index.php?title=Data_science&action=edit',\n",
       " '/w/index.php?title=Data_science&action=history',\n",
       " '/wiki/Data_science',\n",
       " '/w/index.php?title=Data_science&action=edit',\n",
       " '/w/index.php?title=Data_science&action=history',\n",
       " '/wiki/Information_science',\n",
       " '/wiki/File:PIA23792-1600x1200(1).jpg',\n",
       " '/wiki/File:PIA23792-1600x1200(1).jpg',\n",
       " '/wiki/Comet_NEOWISE',\n",
       " '/wiki/Astronomical_survey',\n",
       " '/wiki/Space_telescope',\n",
       " '/wiki/Wide-field_Infrared_Survey_Explorer',\n",
       " '/wiki/Interdisciplinary',\n",
       " '/wiki/Statistics',\n",
       " '/wiki/Scientific_computing',\n",
       " '/wiki/Scientific_method',\n",
       " '/wiki/Algorithm',\n",
       " '/wiki/Knowledge',\n",
       " '/wiki/Unstructured_data',\n",
       " '/wiki/Statistics',\n",
       " '/wiki/Data_analysis',\n",
       " '/wiki/Informatics',\n",
       " '/wiki/Scientific_method',\n",
       " '/wiki/Phenomena',\n",
       " '/wiki/Data',\n",
       " '/wiki/Mathematics',\n",
       " '/wiki/Computer_science',\n",
       " '/wiki/Information_science',\n",
       " '/wiki/Domain_knowledge',\n",
       " '/wiki/Computer_science',\n",
       " '/wiki/Turing_Award',\n",
       " '/wiki/Jim_Gray_(computer_scientist)',\n",
       " '/wiki/Empirical_research',\n",
       " '/wiki/Basic_research',\n",
       " '/wiki/Computational_science',\n",
       " '/wiki/Information_technology',\n",
       " '/wiki/Information_explosion',\n",
       " '/w/index.php?title=Data_science&action=edit&section=1',\n",
       " '/wiki/Interdisciplinarity',\n",
       " '/wiki/Academic_discipline',\n",
       " '/wiki/Big_data',\n",
       " '/wiki/Data_set',\n",
       " '/wiki/Problem_solving',\n",
       " '/wiki/Analysis',\n",
       " '/wiki/Data_visualization',\n",
       " '/wiki/Information_visualization',\n",
       " '/wiki/Data_sonification',\n",
       " '/wiki/Data_integration',\n",
       " '/wiki/Graphic_design',\n",
       " '/wiki/Complex_systems',\n",
       " '/wiki/Communication',\n",
       " '/wiki/Business',\n",
       " '/wiki/Nathan_Yau',\n",
       " '/wiki/Ben_Fry',\n",
       " '/wiki/Exploration',\n",
       " '/wiki/American_Statistical_Association',\n",
       " '/wiki/Database',\n",
       " '/wiki/Machine_learning',\n",
       " '/wiki/Distributed_computing',\n",
       " '/w/index.php?title=Data_science&action=edit&section=2',\n",
       " '/wiki/Nate_Silver',\n",
       " '/wiki/Vasant_Dhar',\n",
       " '/wiki/Andrew_Gelman',\n",
       " '/wiki/Columbia_University',\n",
       " '/wiki/David_Donoho',\n",
       " '/w/index.php?title=Data_science&action=edit&section=3',\n",
       " '/w/index.php?title=Data_science&action=edit&section=4',\n",
       " '/wiki/John_Tukey',\n",
       " '/wiki/C._F._Jeff_Wu',\n",
       " '/wiki/Montpellier_2_University',\n",
       " '/wiki/Peter_Naur',\n",
       " '/wiki/C._F._Jeff_Wu',\n",
       " '/wiki/Data_mining',\n",
       " '/w/index.php?title=Data_science&action=edit&section=5',\n",
       " '/wiki/Thomas_H._Davenport',\n",
       " '/wiki/DJ_Patil',\n",
       " '/wiki/New_York_Times',\n",
       " '/wiki/Boston_Globe',\n",
       " '/wiki/William_S._Cleveland',\n",
       " '/wiki/Committee_on_Data_for_Science_and_Technology',\n",
       " '/wiki/American_Statistical_Association',\n",
       " '/wiki/DJ_Patil',\n",
       " '/wiki/Jeff_Hammerbacher',\n",
       " '/wiki/National_Science_Board',\n",
       " '/wiki/Buzzword',\n",
       " '/wiki/Big_data',\n",
       " '/w/index.php?title=Data_science&action=edit&section=6',\n",
       " '/wiki/ODSC',\n",
       " '/wiki/Scientific_Data_(journal)',\n",
       " '/wiki/Women_in_Data',\n",
       " '/w/index.php?title=Data_science&action=edit&section=7',\n",
       " '/wiki/Journal_of_Computational_and_Graphical_Statistics',\n",
       " '/wiki/Doi_(identifier)',\n",
       " '/wiki/S2CID_(identifier)',\n",
       " '/wiki/Doi_(identifier)',\n",
       " '/wiki/S2CID_(identifier)',\n",
       " '/wiki/Doi_(identifier)',\n",
       " '/wiki/ISBN_(identifier)',\n",
       " '/wiki/Special:BookSources/9784431702085',\n",
       " '/wiki/Doi_(identifier)',\n",
       " '/wiki/ISSN_(identifier)',\n",
       " '//www.worldcat.org/issn/0360-0300',\n",
       " '/wiki/S2CID_(identifier)',\n",
       " '/wiki/ISBN_(identifier)',\n",
       " '/wiki/Special:BookSources/978-0-9825442-0-4',\n",
       " '/wiki/Doi_(identifier)',\n",
       " '/wiki/ISSN_(identifier)',\n",
       " '//www.worldcat.org/issn/0036-8075',\n",
       " '/wiki/PMID_(identifier)',\n",
       " '//pubmed.ncbi.nlm.nih.gov/19265007',\n",
       " '/wiki/S2CID_(identifier)',\n",
       " '/wiki/Harvard_Business_Review',\n",
       " '/wiki/PMID_(identifier)',\n",
       " '//pubmed.ncbi.nlm.nih.gov/23074866',\n",
       " '/wiki/Doi_(identifier)',\n",
       " '/wiki/American_Statistical_Association',\n",
       " '/wiki/Doi_(identifier)',\n",
       " '/wiki/S2CID_(identifier)',\n",
       " '/w/index.php?title=Application_of_Statistics_and_Management&action=edit&redlink=1',\n",
       " '/wiki/ISBN_(identifier)',\n",
       " '/wiki/Special:BookSources/0-12-241770-4',\n",
       " '/wiki/OCLC_(identifier)',\n",
       " '//www.worldcat.org/oclc/489990740',\n",
       " '/wiki/Doi_(identifier)',\n",
       " '/wiki/Harvard_Business_Review',\n",
       " '/wiki/New_York_Times',\n",
       " '/wiki/New_York_City',\n",
       " '/wiki/Boston_Globe',\n",
       " '/wiki/Boston',\n",
       " '/wiki/Harvard_Business_Review',\n",
       " '/wiki/American_Statistical_Association',\n",
       " '/wiki/ISSN_(identifier)',\n",
       " '//www.worldcat.org/issn/0017-8012',\n",
       " '/wiki/Forbes',\n",
       " '/wiki/Template:Data',\n",
       " '/wiki/Template_talk:Data',\n",
       " '/wiki/Data_(computing)',\n",
       " '/wiki/Data_augmentation',\n",
       " '/wiki/Data_analysis',\n",
       " '/wiki/Data_archaeology',\n",
       " '/wiki/Big_data',\n",
       " '/wiki/Data_cleansing',\n",
       " '/wiki/Data_collection',\n",
       " '/wiki/Data_compression',\n",
       " '/wiki/Data_corruption',\n",
       " '/wiki/Data_curation',\n",
       " '/wiki/Data_degradation',\n",
       " '/wiki/Data_editing',\n",
       " '/wiki/Extract,_transform,_load',\n",
       " '/wiki/Extract,_load,_transform',\n",
       " '/wiki/Data_extraction',\n",
       " '/wiki/Data_transformation',\n",
       " '/wiki/Data_loading',\n",
       " '/wiki/Data_farming',\n",
       " '/wiki/Data_format_management',\n",
       " '/wiki/Data_fusion',\n",
       " '/wiki/Data_integration',\n",
       " '/wiki/Data_integrity',\n",
       " '/wiki/Data_library',\n",
       " '/wiki/Data_lineage',\n",
       " '/wiki/Data_loss',\n",
       " '/wiki/Data_management',\n",
       " '/wiki/Data_migration',\n",
       " '/wiki/Data_mining',\n",
       " '/wiki/Data_philanthropy',\n",
       " '/wiki/Data_pre-processing',\n",
       " '/wiki/Data_preservation',\n",
       " '/wiki/Information_privacy',\n",
       " '/wiki/Data_publishing',\n",
       " '/wiki/Data_recovery',\n",
       " '/wiki/Data_reduction',\n",
       " '/wiki/Data_retention',\n",
       " '/wiki/Data_quality',\n",
       " '/wiki/Data_scraping',\n",
       " '/wiki/Data_scrubbing',\n",
       " '/wiki/Data_security',\n",
       " '/wiki/Data_steward',\n",
       " '/wiki/Data_storage',\n",
       " '/wiki/Data_validation',\n",
       " '/wiki/Data_warehouse',\n",
       " '/wiki/Data_wrangling',\n",
       " '/wiki/Help:Category',\n",
       " '/wiki/Category:Information_science',\n",
       " '/wiki/Category:Computer_occupations',\n",
       " '/wiki/Category:Computational_fields_of_study',\n",
       " '/wiki/Category:Data_analysis',\n",
       " '/wiki/Category:Articles_with_short_description',\n",
       " '/wiki/Category:Short_description_matches_Wikidata',\n",
       " '/wiki/Category:Use_dmy_dates_from_August_2021',\n",
       " '//en.wikipedia.org/wiki/Wikipedia:Text_of_the_Creative_Commons_Attribution-ShareAlike_3.0_Unported_License',\n",
       " '//creativecommons.org/licenses/by-sa/3.0/',\n",
       " '//foundation.wikimedia.org/wiki/Terms_of_Use',\n",
       " '//foundation.wikimedia.org/wiki/Privacy_policy',\n",
       " '//www.wikimediafoundation.org/',\n",
       " '/wiki/Wikipedia:About',\n",
       " '/wiki/Wikipedia:General_disclaimer',\n",
       " '//en.wikipedia.org/wiki/Wikipedia:Contact_us',\n",
       " '//en.m.wikipedia.org/w/index.php?title=Data_science&mobileaction=toggle_view_mobile']"
      ]
     },
     "execution_count": 8,
     "metadata": {},
     "output_type": "execute_result"
    }
   ],
   "source": [
    "rel_links # relative links\n"
   ]
  },
  {
   "cell_type": "code",
   "execution_count": 9,
   "metadata": {},
   "outputs": [
    {
     "data": {
      "text/plain": [
       "['https://donate.wikimedia.org/wiki/Special:FundraiserRedirector?utm_source=donate&utm_medium=sidebar&utm_campaign=C13_en.wikipedia.org&uselang=en',\n",
       " 'https://www.wikidata.org/wiki/Special:EntityPage/Q2374463',\n",
       " 'https://commons.wikimedia.org/wiki/Category:Data_science',\n",
       " 'https://en.wikiversity.org/wiki/Data_science',\n",
       " 'https://cs.wikipedia.org/wiki/Data_science',\n",
       " 'https://de.wikipedia.org/wiki/Data_Science',\n",
       " 'https://et.wikipedia.org/wiki/Andmeteadus',\n",
       " 'https://es.wikipedia.org/wiki/Ciencia_de_datos',\n",
       " 'https://eo.wikipedia.org/wiki/Datuma_scienco',\n",
       " 'https://eu.wikipedia.org/wiki/Datu_zientzia',\n",
       " 'https://id.wikipedia.org/wiki/Ilmu_data',\n",
       " 'https://it.wikipedia.org/wiki/Scienza_dei_dati',\n",
       " 'https://ms.wikipedia.org/wiki/Sains_data',\n",
       " 'https://nl.wikipedia.org/wiki/Datawetenschap',\n",
       " 'https://no.wikipedia.org/wiki/Datavitenskap',\n",
       " 'https://pl.wikipedia.org/wiki/Danologia',\n",
       " 'https://simple.wikipedia.org/wiki/Data_science',\n",
       " 'https://fi.wikipedia.org/wiki/Datatiede',\n",
       " 'https://tr.wikipedia.org/wiki/Veri_bilimi',\n",
       " 'https://www.wikidata.org/wiki/Special:EntityPage/Q2374463#sitelinks-wikipedia',\n",
       " 'https://api.semanticscholar.org/CorpusID:114558008',\n",
       " 'http://cacm.acm.org/magazines/2013/12/169933-data-science-and-prediction/fulltext',\n",
       " 'https://api.semanticscholar.org/CorpusID:6107147',\n",
       " 'https://web.archive.org/web/20141109113411/http://cacm.acm.org/magazines/2013/12/169933-data-science-and-prediction/fulltext',\n",
       " 'https://dstf.acm.org/DSTF_Final_Report.pdf',\n",
       " 'https://cacm.acm.org/blogs/blog-cacm/267286-why-is-it-hard-to-define-data-science/fulltext',\n",
       " 'https://www.springer.com/book/9784431702085',\n",
       " 'https://api.semanticscholar.org/CorpusID:207595944',\n",
       " 'https://books.google.com/books?id=oGs_AQAAIAAJ',\n",
       " 'https://web.archive.org/web/20170320193019/https://books.google.com/books?id=oGs_AQAAIAAJ',\n",
       " 'https://api.semanticscholar.org/CorpusID:9743327',\n",
       " 'https://hbr.org/2012/10/data-scientist-the-sexiest-job-of-the-21st-century/',\n",
       " 'https://web.archive.org/web/20200810114002/http://www.datascienceassn.org/about-data-science',\n",
       " 'http://www.datascienceassn.org/about-data-science',\n",
       " 'https://www.oreilly.com/library/view/doing-data-science/9781449363871/ch01.html',\n",
       " 'https://medriscoll.com/post/4740157098/the-three-sexy-skills-of-data-geeks',\n",
       " 'https://flowingdata.com/2009/06/04/rise-of-the-data-scientist/',\n",
       " 'https://benfry.com/phd/dissertation/2.html',\n",
       " 'https://magazine.amstat.org/blog/2015/10/01/asa-statement-on-the-role-of-statistics-in-data-science/',\n",
       " 'https://web.archive.org/web/20190620184935/https://magazine.amstat.org/blog/2015/10/01/asa-statement-on-the-role-of-statistics-in-data-science/',\n",
       " 'https://www.statisticsviews.com/article/nate-silver-what-i-need-from-statisticians/',\n",
       " 'http://priceonomics.com/whats-the-difference-between-data-science-and/',\n",
       " 'http://archive.nyu.edu/handle/2451/31553',\n",
       " 'https://api.semanticscholar.org/CorpusID:6107147',\n",
       " 'https://statmodeling.stat.columbia.edu/2013/11/14/statistics-least-important-part-data-science/',\n",
       " 'http://courses.csail.mit.edu/18.337/2015/docs/50YearsDataScience.pdf',\n",
       " 'https://www2.isye.gatech.edu/~jeffwu/publications/fazhan.pdf',\n",
       " 'http://www2.isye.gatech.edu/~jeffwu/presentations/datascience.pdf',\n",
       " 'https://www.forbes.com/sites/gilpress/2013/05/28/a-very-short-history-of-data-science/',\n",
       " 'https://hbr.org/2012/10/data-scientist-the-sexiest-job-of-the-21st-century',\n",
       " 'https://www.nytimes.com/2013/04/14/education/edlife/universities-offer-courses-in-a-hot-new-field-data-science.html',\n",
       " 'https://www.bostonglobe.com/business/2015/11/11/behind-scenes-sexiest-job-century/Kc1cvXIu31DfHhVmyRQeIJ/story.html',\n",
       " 'https://hbr.org/2022/07/is-data-scientist-still-the-sexiest-job-of-the-21st-century',\n",
       " 'https://www.stat.purdue.edu/~wsc/',\n",
       " 'https://magazine.amstat.org/blog/2016/06/01/datascience-2/',\n",
       " 'https://hbr.org/2012/10/data-scientist-the-sexiest-job-of-the-21st-century',\n",
       " 'https://www.nsf.gov/pubs/2005/nsb0540/',\n",
       " 'https://www.forbes.com/sites/gilpress/2013/08/19/data-science-whats-the-half-life-of-a-buzzword/',\n",
       " 'https://www.forbes.com/sites/peterpham/2015/08/28/the-impacts-of-big-data-that-you-may-not-have-heard-of/',\n",
       " 'https://towardsdatascience.com/how-data-science-will-impact-future-of-businesses-7f11f5699c4d',\n",
       " 'https://en.wikipedia.org/w/index.php?title=Template:Data&action=edit',\n",
       " 'https://en.wikipedia.org/w/index.php?title=Data_science&oldid=1138351123',\n",
       " 'https://foundation.wikimedia.org/wiki/Privacy_policy',\n",
       " 'https://developer.wikimedia.org',\n",
       " 'https://stats.wikimedia.org/#/en.wikipedia.org',\n",
       " 'https://foundation.wikimedia.org/wiki/Cookie_statement',\n",
       " 'https://wikimediafoundation.org/',\n",
       " 'https://www.mediawiki.org/']"
      ]
     },
     "execution_count": 9,
     "metadata": {},
     "output_type": "execute_result"
    }
   ],
   "source": [
    "abs_links"
   ]
  },
  {
   "cell_type": "markdown",
   "metadata": {},
   "source": [
    "## Step 4: Use the os library to create a folder called *wikipedia* and make that the current working directory."
   ]
  },
  {
   "cell_type": "code",
   "execution_count": 10,
   "metadata": {},
   "outputs": [],
   "source": [
    "import os"
   ]
  },
  {
   "cell_type": "code",
   "execution_count": 11,
   "metadata": {},
   "outputs": [],
   "source": [
    "\n",
    "os.mkdir('wikipedia')"
   ]
  },
  {
   "cell_type": "code",
   "execution_count": 12,
   "metadata": {},
   "outputs": [],
   "source": [
    "os.chdir('wikipedia')"
   ]
  },
  {
   "cell_type": "code",
   "execution_count": 13,
   "metadata": {},
   "outputs": [],
   "source": [
    "current_dir = os.getcwd()"
   ]
  },
  {
   "cell_type": "code",
   "execution_count": 14,
   "metadata": {},
   "outputs": [
    {
     "data": {
      "text/plain": [
       "'/Users/fernando/Desktop/Ironhack/4.4-lab-parallelization/your-code/wikipedia'"
      ]
     },
     "execution_count": 14,
     "metadata": {},
     "output_type": "execute_result"
    }
   ],
   "source": [
    "current_dir"
   ]
  },
  {
   "cell_type": "markdown",
   "metadata": {},
   "source": [
    "## Step 5: Write a function called index_page that accepts a link and does the following.\n",
    "\n",
    "- Tries to request the content of the page referenced by that link.\n",
    "- Slugifies the filename using the `slugify` function from the [python-slugify](https://pypi.org/project/python-slugify/) library and adds a .html file extension.\n",
    "    - If you don't already have the python-slugify library installed, you can pip install it as follows: `$ pip install python-slugify`.\n",
    "    - To import the slugify function, you would do the following: `from slugify import slugify`.\n",
    "    - You can then slugify a link as follows `slugify(link)`.\n",
    "- Creates a file in the wikipedia folder using the slugified filename and writes the contents of the page to the file.\n",
    "- If an exception occurs during the process above, just `pass`."
   ]
  },
  {
   "cell_type": "code",
   "execution_count": 15,
   "metadata": {},
   "outputs": [
    {
     "name": "stdout",
     "output_type": "stream",
     "text": [
      "Requirement already satisfied: python-slugify in /Users/fernando/opt/anaconda3/lib/python3.9/site-packages (5.0.2)\n",
      "Requirement already satisfied: text-unidecode>=1.3 in /Users/fernando/opt/anaconda3/lib/python3.9/site-packages (from python-slugify) (1.3)\n",
      "Note: you may need to restart the kernel to use updated packages.\n"
     ]
    }
   ],
   "source": [
    "pip install python-slugify"
   ]
  },
  {
   "cell_type": "code",
   "execution_count": 16,
   "metadata": {},
   "outputs": [],
   "source": [
    "from slugify import slugify"
   ]
  },
  {
   "cell_type": "code",
   "execution_count": 17,
   "metadata": {},
   "outputs": [
    {
     "data": {
      "text/plain": [
       "'https-hbr-org-2012-10-data-scientist-the-sexiest-job-of-the-21st-century'"
      ]
     },
     "execution_count": 17,
     "metadata": {},
     "output_type": "execute_result"
    }
   ],
   "source": [
    "def index_page(link):\n",
    "    \n",
    "    return slugify(link)\n",
    "index_page('https://hbr.org/2012/10/data-scientist-the-sexiest-job-of-the-21st-century')"
   ]
  },
  {
   "cell_type": "code",
   "execution_count": 18,
   "metadata": {},
   "outputs": [
    {
     "name": "stdout",
     "output_type": "stream",
     "text": [
      "La página 'https://hbr.org/2012/10/data-scientist-the-sexiest-job-of-the-21st-century' ha sido guardada en el archivo 'https-hbr-org-2012-10-data-scientist-the-sexiest-job-of-the-21st-century'.\n"
     ]
    }
   ],
   "source": [
    "def index_page(link):\n",
    "    \n",
    "    response = req.get(link).text\n",
    "\n",
    "    filename = slugify(link)\n",
    "\n",
    "    with open(filename, \"w\", encoding='utf-8') as file:\n",
    "        \n",
    "        file.write(response)\n",
    "\n",
    "    print(f\"La página '{link}' ha sido guardada en el archivo '{filename}'.\")\n",
    "\n",
    "index_page('https://hbr.org/2012/10/data-scientist-the-sexiest-job-of-the-21st-century')"
   ]
  },
  {
   "cell_type": "markdown",
   "metadata": {},
   "source": [
    "## Step 6: Sequentially loop through the list of links, running the index_page function each time.\n",
    "\n",
    "Remember to include `%%time` at the beginning of the cell so that it measures the time it takes for the cell to run."
   ]
  },
  {
   "cell_type": "code",
   "execution_count": 19,
   "metadata": {},
   "outputs": [
    {
     "name": "stdout",
     "output_type": "stream",
     "text": [
      "Requirement already satisfied: tqdm in /Users/fernando/opt/anaconda3/lib/python3.9/site-packages (4.64.1)\n",
      "Note: you may need to restart the kernel to use updated packages.\n"
     ]
    }
   ],
   "source": [
    "%pip install tqdm"
   ]
  },
  {
   "cell_type": "code",
   "execution_count": 20,
   "metadata": {},
   "outputs": [],
   "source": [
    "from tqdm.notebook import tqdm"
   ]
  },
  {
   "cell_type": "code",
   "execution_count": 21,
   "metadata": {},
   "outputs": [
    {
     "data": {
      "application/vnd.jupyter.widget-view+json": {
       "model_id": "5a17a8d4c1224e49990e8e6fa2623e5c",
       "version_major": 2,
       "version_minor": 0
      },
      "text/plain": [
       "  0%|          | 0/15 [00:00<?, ?it/s]"
      ]
     },
     "metadata": {},
     "output_type": "display_data"
    },
    {
     "name": "stdout",
     "output_type": "stream",
     "text": [
      "La página 'https://donate.wikimedia.org/wiki/Special:FundraiserRedirector?utm_source=donate&utm_medium=sidebar&utm_campaign=C13_en.wikipedia.org&uselang=en' ha sido guardada en el archivo 'https-donate-wikimedia-org-wiki-special-fundraiserredirector-utm-source-donate-utm-medium-sidebar-utm-campaign-c13-en-wikipedia-org-uselang-en'.\n",
      "La página 'https://www.wikidata.org/wiki/Special:EntityPage/Q2374463' ha sido guardada en el archivo 'https-www-wikidata-org-wiki-special-entitypage-q2374463'.\n",
      "La página 'https://commons.wikimedia.org/wiki/Category:Data_science' ha sido guardada en el archivo 'https-commons-wikimedia-org-wiki-category-data-science'.\n",
      "La página 'https://en.wikiversity.org/wiki/Data_science' ha sido guardada en el archivo 'https-en-wikiversity-org-wiki-data-science'.\n",
      "La página 'https://cs.wikipedia.org/wiki/Data_science' ha sido guardada en el archivo 'https-cs-wikipedia-org-wiki-data-science'.\n",
      "La página 'https://de.wikipedia.org/wiki/Data_Science' ha sido guardada en el archivo 'https-de-wikipedia-org-wiki-data-science'.\n",
      "La página 'https://et.wikipedia.org/wiki/Andmeteadus' ha sido guardada en el archivo 'https-et-wikipedia-org-wiki-andmeteadus'.\n",
      "La página 'https://es.wikipedia.org/wiki/Ciencia_de_datos' ha sido guardada en el archivo 'https-es-wikipedia-org-wiki-ciencia-de-datos'.\n",
      "La página 'https://eo.wikipedia.org/wiki/Datuma_scienco' ha sido guardada en el archivo 'https-eo-wikipedia-org-wiki-datuma-scienco'.\n",
      "La página 'https://eu.wikipedia.org/wiki/Datu_zientzia' ha sido guardada en el archivo 'https-eu-wikipedia-org-wiki-datu-zientzia'.\n",
      "La página 'https://id.wikipedia.org/wiki/Ilmu_data' ha sido guardada en el archivo 'https-id-wikipedia-org-wiki-ilmu-data'.\n",
      "La página 'https://it.wikipedia.org/wiki/Scienza_dei_dati' ha sido guardada en el archivo 'https-it-wikipedia-org-wiki-scienza-dei-dati'.\n",
      "La página 'https://ms.wikipedia.org/wiki/Sains_data' ha sido guardada en el archivo 'https-ms-wikipedia-org-wiki-sains-data'.\n",
      "La página 'https://nl.wikipedia.org/wiki/Datawetenschap' ha sido guardada en el archivo 'https-nl-wikipedia-org-wiki-datawetenschap'.\n",
      "La página 'https://no.wikipedia.org/wiki/Datavitenskap' ha sido guardada en el archivo 'https-no-wikipedia-org-wiki-datavitenskap'.\n",
      "CPU times: user 817 ms, sys: 97.8 ms, total: 915 ms\n",
      "Wall time: 3.54 s\n"
     ]
    }
   ],
   "source": [
    "%%time\n",
    "\n",
    "\n",
    "for i in tqdm(abs_links[:15]):\n",
    "    \n",
    "    index_page(i)"
   ]
  },
  {
   "cell_type": "markdown",
   "metadata": {},
   "source": [
    "## Step 7: Perform the page indexing in parallel and note the difference in performance.\n",
    "\n",
    "Remember to include `%%time` at the beginning of the cell so that it measures the time it takes for the cell to run."
   ]
  },
  {
   "cell_type": "code",
   "execution_count": 24,
   "metadata": {},
   "outputs": [],
   "source": [
    "import multiprocessing as mp"
   ]
  },
  {
   "cell_type": "code",
   "execution_count": 25,
   "metadata": {},
   "outputs": [],
   "source": [
    "from multiprocessing import get_context"
   ]
  },
  {
   "cell_type": "code",
   "execution_count": 29,
   "metadata": {},
   "outputs": [
    {
     "name": "stdout",
     "output_type": "stream",
     "text": [
      "La página 'https://en.wikiversity.org/wiki/Data_science' ha sido guardada en el archivo 'https-en-wikiversity-org-wiki-data-science'.\n",
      "La página 'https://et.wikipedia.org/wiki/Andmeteadus' ha sido guardada en el archivo 'https-et-wikipedia-org-wiki-andmeteadus'.La página 'https://de.wikipedia.org/wiki/Data_Science' ha sido guardada en el archivo 'https-de-wikipedia-org-wiki-data-science'.La página 'https://es.wikipedia.org/wiki/Ciencia_de_datos' ha sido guardada en el archivo 'https-es-wikipedia-org-wiki-ciencia-de-datos'.La página 'https://commons.wikimedia.org/wiki/Category:Data_science' ha sido guardada en el archivo 'https-commons-wikimedia-org-wiki-category-data-science'.\n",
      "\n",
      "La página 'https://cs.wikipedia.org/wiki/Data_science' ha sido guardada en el archivo 'https-cs-wikipedia-org-wiki-data-science'.\n",
      "\n",
      "\n",
      "La página 'https://www.wikidata.org/wiki/Special:EntityPage/Q2374463' ha sido guardada en el archivo 'https-www-wikidata-org-wiki-special-entitypage-q2374463'.\n",
      "La página 'https://eo.wikipedia.org/wiki/Datuma_scienco' ha sido guardada en el archivo 'https-eo-wikipedia-org-wiki-datuma-scienco'.\n",
      "La página 'https://id.wikipedia.org/wiki/Ilmu_data' ha sido guardada en el archivo 'https-id-wikipedia-org-wiki-ilmu-data'.\n",
      "La página 'https://nl.wikipedia.org/wiki/Datawetenschap' ha sido guardada en el archivo 'https-nl-wikipedia-org-wiki-datawetenschap'.\n",
      "La página 'https://it.wikipedia.org/wiki/Scienza_dei_dati' ha sido guardada en el archivo 'https-it-wikipedia-org-wiki-scienza-dei-dati'.La página 'https://ms.wikipedia.org/wiki/Sains_data' ha sido guardada en el archivo 'https-ms-wikipedia-org-wiki-sains-data'.La página 'https://eu.wikipedia.org/wiki/Datu_zientzia' ha sido guardada en el archivo 'https-eu-wikipedia-org-wiki-datu-zientzia'.\n",
      "\n",
      "\n",
      "La página 'https://donate.wikimedia.org/wiki/Special:FundraiserRedirector?utm_source=donate&utm_medium=sidebar&utm_campaign=C13_en.wikipedia.org&uselang=en' ha sido guardada en el archivo 'https-donate-wikimedia-org-wiki-special-fundraiserredirector-utm-source-donate-utm-medium-sidebar-utm-campaign-c13-en-wikipedia-org-uselang-en'.\n",
      "La página 'https://no.wikipedia.org/wiki/Datavitenskap' ha sido guardada en el archivo 'https-no-wikipedia-org-wiki-datavitenskap'.\n",
      "CPU times: user 34.5 ms, sys: 84.6 ms, total: 119 ms\n",
      "Wall time: 1.24 s\n"
     ]
    },
    {
     "data": {
      "text/plain": [
       "[None, None, None, None, None]"
      ]
     },
     "execution_count": 29,
     "metadata": {},
     "output_type": "execute_result"
    }
   ],
   "source": [
    "%%time\n",
    "\n",
    "pool = get_context('fork').Pool(mp.cpu_count()) # para el M1\n",
    "\n",
    "res=pool.map(index_page, abs_links[:15])\n",
    "pool.close()\n",
    "\n",
    "res[:5]"
   ]
  },
  {
   "cell_type": "code",
   "execution_count": null,
   "metadata": {},
   "outputs": [],
   "source": []
  },
  {
   "cell_type": "code",
   "execution_count": 23,
   "metadata": {},
   "outputs": [],
   "source": [
    "#your code"
   ]
  }
 ],
 "metadata": {
  "kernelspec": {
   "display_name": "Python 3 (ipykernel)",
   "language": "python",
   "name": "python3"
  },
  "language_info": {
   "codemirror_mode": {
    "name": "ipython",
    "version": 3
   },
   "file_extension": ".py",
   "mimetype": "text/x-python",
   "name": "python",
   "nbconvert_exporter": "python",
   "pygments_lexer": "ipython3",
   "version": "3.9.13"
  },
  "toc": {
   "base_numbering": 1,
   "nav_menu": {},
   "number_sections": true,
   "sideBar": true,
   "skip_h1_title": false,
   "title_cell": "Table of Contents",
   "title_sidebar": "Contents",
   "toc_cell": true,
   "toc_position": {},
   "toc_section_display": true,
   "toc_window_display": false
  },
  "varInspector": {
   "cols": {
    "lenName": 16,
    "lenType": 16,
    "lenVar": 40
   },
   "kernels_config": {
    "python": {
     "delete_cmd_postfix": "",
     "delete_cmd_prefix": "del ",
     "library": "var_list.py",
     "varRefreshCmd": "print(var_dic_list())"
    },
    "r": {
     "delete_cmd_postfix": ") ",
     "delete_cmd_prefix": "rm(",
     "library": "var_list.r",
     "varRefreshCmd": "cat(var_dic_list()) "
    }
   },
   "types_to_exclude": [
    "module",
    "function",
    "builtin_function_or_method",
    "instance",
    "_Feature"
   ],
   "window_display": false
  }
 },
 "nbformat": 4,
 "nbformat_minor": 2
}
